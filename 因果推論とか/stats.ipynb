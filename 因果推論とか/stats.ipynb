{
 "cells": [
  {
   "cell_type": "markdown",
   "source": [
    "### 等分散検定"
   ],
   "metadata": {}
  },
  {
   "cell_type": "code",
   "execution_count": 7,
   "source": [
    "#2群間の等分散性の検定\r\n",
    "\r\n",
    "import numpy as np\r\n",
    "from scipy import stats\r\n",
    "\r\n",
    "#A = np.array([6.3, 8.1, 9.4, 10.4, 8.6, 10.5, 10.2, 10.5, 10.0, 8.8])\r\n",
    "#B = np.array([4.8, 2.1, 5.1, 2.0, 4.0, 1.0, 3.4, 2.7, 5.1, 1.4, 1.6])\r\n",
    "\r\n",
    "A_var = np.var(A, ddof=1)  # Aの不偏分散\r\n",
    "B_var = np.var(B, ddof=1)  # Bの不偏分散\r\n",
    "A_df = len(A) - 1  # Aの自由度\r\n",
    "B_df = len(B) - 1  # Bの自由度\r\n",
    "f = A_var / B_var  # F比の値\r\n",
    "one_sided_pval1 = stats.f.cdf(f, A_df, B_df)  # 片側検定のp値 1\r\n",
    "one_sided_pval2 = stats.f.sf(f, A_df, B_df)   # 片側検定のp値 2\r\n",
    "two_sided_pval = min(one_sided_pval1, one_sided_pval2) * 2  # 両側検定のp値\r\n",
    "\r\n",
    "print('F:       ', round(f, 3))\r\n",
    "print('p-value: ', round(two_sided_pval, 3))"
   ],
   "outputs": [
    {
     "output_type": "stream",
     "name": "stdout",
     "text": [
      "F:        0.779\n",
      "p-value:  0.718\n"
     ]
    }
   ],
   "metadata": {}
  },
  {
   "cell_type": "markdown",
   "source": [
    "### 平均の差の検定"
   ],
   "metadata": {}
  },
  {
   "cell_type": "code",
   "execution_count": 6,
   "source": [
    "# studentのt検定\r\n",
    "# 2群間の平均値の差を比較する検定\r\n",
    "# 2群間の平均値が独立であり(データに対応がない)、2群間に等分散性が仮定できる場合に用いる\r\n",
    "\r\n",
    "import numpy as np\r\n",
    "from scipy import stats\r\n",
    "\r\n",
    "#A = np.array([6.3, 8.1, 9.4, 10.4, 8.6, 10.5, 10.2, 10.5, 10.0, 8.8])\r\n",
    "#B = np.array([4.8, 2.1, 5.1, 2.0, 4.0, 1.0, 3.4, 2.7, 5.1, 1.4, 1.6])\r\n",
    "\r\n",
    "result = stats.ttest_ind(A, B)\r\n",
    "\r\n",
    "print(f\"t-stats:{result[0]}\")\r\n",
    "print(f\"p-value:{result[1]}\")\r\n",
    "\r\n"
   ],
   "outputs": [
    {
     "output_type": "stream",
     "name": "stdout",
     "text": [
      "t-stats:9.851086859836649\n",
      "p-value:6.698194360479442e-09\n"
     ]
    }
   ],
   "metadata": {}
  },
  {
   "cell_type": "code",
   "execution_count": 8,
   "source": [
    "# Welch(ウェルチ)のt検定\r\n",
    "# 2群間の平均値の差を比較する検定\r\n",
    "# 2群間の平均値が独立であり(データに対応がない)、2群間に等分散性が仮定できない場合に用いる\r\n",
    "\r\n",
    "import numpy as np\r\n",
    "from scipy import stats\r\n",
    "\r\n",
    "# A = np.array([13.8, 10.2, 4.6, 10.0, 4.2, 16.1, 14.4, 4.9, 7.7, 11.4])\r\n",
    "# B = np.array([3.3, 2.6, 4.0, 4.7, 1.9, 2.9, 4.7, 5.3, 4.3, 3.0, 2.0])\r\n",
    "\r\n",
    "result = stats.ttest_ind(A, B, equal_var=False)\r\n",
    "\r\n",
    "print(f\"t-stats:{result[0]}\")\r\n",
    "print(f\"p-value:{result[1]}\")"
   ],
   "outputs": [
    {
     "output_type": "stream",
     "name": "stdout",
     "text": [
      "t-stats:4.426442804187721\n",
      "p-value:0.0012285738375064346\n"
     ]
    }
   ],
   "metadata": {}
  },
  {
   "cell_type": "code",
   "execution_count": 9,
   "source": [
    "# Mann-Whitney(マンホイットニー)のU検定\r\n",
    "# (Wilcoxon(ウィルコクソン)の順位和検定)\r\n",
    "# 2群間の平均値が独立であり(データに対応がない)、正規分布が仮定できない(ノンパラメトリック)場合に用いる\r\n",
    "# 順序尺度に対応\r\n",
    "# 独立2群間の代表値の差の検定\r\n",
    "# 各群のサンプル数は一致しなくてよい\r\n",
    "\r\n",
    "import numpy as np\r\n",
    "from scipy import stats\r\n",
    "\r\n",
    "A = np.array([1.83, 1.50, 1.62, 2.48, 1.68, 1.88, 1.55, 3.06, 1.30, 2.01, 3.11])\r\n",
    "B = np.array([0.88, 0.65, 0.60, 1.05, 1.06, 1.29, 1.06, 2.14, 1.29])\r\n",
    "\r\n",
    "\r\n",
    "result = stats.mannwhitneyu(A, B, alternative='two-sided')\r\n",
    "\r\n",
    "print(f\"t-stats:{result[0]}\")\r\n",
    "print(f\"p-value:{result[1]}\")"
   ],
   "outputs": [
    {
     "output_type": "stream",
     "name": "stdout",
     "text": [
      "t-stats:91.0\n",
      "p-value:0.0018253610099931035\n"
     ]
    }
   ],
   "metadata": {}
  },
  {
   "cell_type": "code",
   "execution_count": null,
   "source": [],
   "outputs": [],
   "metadata": {}
  },
  {
   "cell_type": "code",
   "execution_count": null,
   "source": [],
   "outputs": [],
   "metadata": {}
  },
  {
   "cell_type": "markdown",
   "source": [
    "### 割合の差　検定"
   ],
   "metadata": {}
  },
  {
   "cell_type": "code",
   "execution_count": null,
   "source": [
    "# フィッシャーの正確性検定\r\n"
   ],
   "outputs": [],
   "metadata": {}
  },
  {
   "cell_type": "code",
   "execution_count": 13,
   "source": [
    "# z検定\r\n",
    "from scipy import stats\r\n",
    "\r\n",
    "def z_stats(p1, n1, p2, n2):\r\n",
    "    p_all = ( (n1*p1) + (n2*p2) ) / (n1+n2)\r\n",
    "    z_scores = abs(p1-p2) / np.sqrt(p_all*(1-p_all)*(1/n1 + 1/n2))\r\n",
    "    p_values = stats.norm.sf(abs(z_scores))*2 #twosided\r\n",
    "    # p_values = stats.norm.sf(abs(z_scores)) #one-sided\r\n",
    "\r\n",
    "    return z_scores, p_values\r\n",
    "\r\n",
    "z_score, p_value = z_stats(0.2,5000,0.18,3000)\r\n",
    "\r\n",
    "print(f\"z_score:{z_score}\")\r\n",
    "print(f\"p-value:{p_value}\")\r\n",
    "\r\n",
    "\r\n"
   ],
   "outputs": [
    {
     "output_type": "stream",
     "name": "stdout",
     "text": [
      "z_score:2.196564696466586\n",
      "p-value:0.028051549880530297\n"
     ]
    }
   ],
   "metadata": {}
  },
  {
   "cell_type": "code",
   "execution_count": 19,
   "source": [
    "# カイ二乗検定\r\n",
    "import pandas as pd\r\n",
    "from scipy import stats\r\n",
    "\r\n",
    "df_cross = pd.DataFrame([[372,49],[501,78]], \r\n",
    "                  index=['A', 'B'],\r\n",
    "                  columns=['no', 'cv']\r\n",
    "                  )\r\n",
    "\r\n",
    "X2_stats, p_value, dof, ef =  stats.chi2_contingency(df_cross, correction=False)\r\n",
    "\r\n",
    "print(df_cross, \"\\n\")\r\n",
    "print(f\"X2_stats:{X2_stats}\")\r\n",
    "print(f\"p-value:{p_value}\")\r\n"
   ],
   "outputs": [
    {
     "output_type": "stream",
     "name": "stdout",
     "text": [
      "    no  cv\n",
      "A  372  49\n",
      "B  501  78 \n",
      "\n",
      "X2_stats:0.7383347016905837\n",
      "p-value:0.39019485527762676\n"
     ]
    }
   ],
   "metadata": {}
  },
  {
   "cell_type": "markdown",
   "source": [
    "### 重回帰分析"
   ],
   "metadata": {}
  },
  {
   "cell_type": "code",
   "execution_count": null,
   "source": [
    "#　回帰\r\n",
    "from sklearn.linear_model import LinearRegression\r\n",
    "import statsmodels.api as sm\r\n",
    "\r\n",
    "x_input = df_arrange.loc[:, \"n_tokens_title\":\"abs_title_sentiment_polarity\"]\r\n",
    "y = df_arrange[[\"target\"]]\r\n",
    "\r\n",
    "x_add_const = sm.add_constant(x_input)\r\n",
    "model_sm = sm.OLS(y, x_add_const).fit()\r\n",
    "print(model_sm.summary())"
   ],
   "outputs": [],
   "metadata": {}
  },
  {
   "cell_type": "markdown",
   "source": [
    "### ロジスティック回帰分析"
   ],
   "metadata": {}
  },
  {
   "cell_type": "code",
   "execution_count": 21,
   "source": [
    "#use sm.Logit\r\n",
    "\r\n",
    "import numpy as np\r\n",
    "import matplotlib.pyplot as plt\r\n",
    "import statsmodels.api as sm\r\n",
    "\r\n",
    "# Load the data from Spector and Mazzeo (1980)\r\n",
    "spector_data = sm.datasets.spector.load()\r\n",
    "spector_data.exog = sm.add_constant(spector_data.exog)\r\n",
    "\r\n",
    "# Follow statsmodles ipython notebook\r\n",
    "logit_mod = sm.Logit(spector_data.endog, spector_data.exog)\r\n",
    "logit_res = logit_mod.fit(disp=0)\r\n",
    "\r\n",
    "print('Parameters: ', logit_res.params)\r\n",
    "print(logit_res.summary())\r\n",
    "\r\n",
    "# resid1 = logit_res.resid_dev   # for Logit model 残差"
   ],
   "outputs": [
    {
     "output_type": "stream",
     "name": "stdout",
     "text": [
      "Parameters:  [-13.02134686   2.82611259   0.09515766   2.37868766]\n",
      "                           Logit Regression Results                           \n",
      "==============================================================================\n",
      "Dep. Variable:                      y   No. Observations:                   32\n",
      "Model:                          Logit   Df Residuals:                       28\n",
      "Method:                           MLE   Df Model:                            3\n",
      "Date:                Wed, 28 Jul 2021   Pseudo R-squ.:                  0.3740\n",
      "Time:                        23:00:19   Log-Likelihood:                -12.890\n",
      "converged:                       True   LL-Null:                       -20.592\n",
      "Covariance Type:            nonrobust   LLR p-value:                  0.001502\n",
      "==============================================================================\n",
      "                 coef    std err          z      P>|z|      [0.025      0.975]\n",
      "------------------------------------------------------------------------------\n",
      "const        -13.0213      4.931     -2.641      0.008     -22.687      -3.356\n",
      "x1             2.8261      1.263      2.238      0.025       0.351       5.301\n",
      "x2             0.0952      0.142      0.672      0.501      -0.182       0.373\n",
      "x3             2.3787      1.065      2.234      0.025       0.292       4.465\n",
      "==============================================================================\n"
     ]
    }
   ],
   "metadata": {}
  },
  {
   "cell_type": "code",
   "execution_count": 22,
   "source": [
    "#use GLM\r\n",
    "\r\n",
    "# logit_mod = sm.Logit(spector_data.endog, spector_data.exog)\r\n",
    "glm_model = sm.GLM(spector_data.endog, spector_data.exog, family=sm.families.Binomial())\r\n",
    "# logit_res = logit_mod.fit(disp=0)\r\n",
    "glm_reslt = glm_model.fit()\r\n",
    "\r\n",
    "# print logit_res.summary()\r\n",
    "print(glm_reslt.summary())\r\n",
    "\r\n",
    "# resid2 = glm_reslt.resid_deviance   # for GLM model 残差\r\n"
   ],
   "outputs": [
    {
     "output_type": "stream",
     "name": "stdout",
     "text": [
      "                 Generalized Linear Model Regression Results                  \n",
      "==============================================================================\n",
      "Dep. Variable:                      y   No. Observations:                   32\n",
      "Model:                            GLM   Df Residuals:                       28\n",
      "Model Family:                Binomial   Df Model:                            3\n",
      "Link Function:                  logit   Scale:                          1.0000\n",
      "Method:                          IRLS   Log-Likelihood:                -12.890\n",
      "Date:                Wed, 28 Jul 2021   Deviance:                       25.779\n",
      "Time:                        23:04:20   Pearson chi2:                     27.3\n",
      "No. Iterations:                     5                                         \n",
      "Covariance Type:            nonrobust                                         \n",
      "==============================================================================\n",
      "                 coef    std err          z      P>|z|      [0.025      0.975]\n",
      "------------------------------------------------------------------------------\n",
      "const        -13.0213      4.931     -2.641      0.008     -22.686      -3.356\n",
      "x1             2.8261      1.263      2.238      0.025       0.351       5.301\n",
      "x2             0.0952      0.142      0.672      0.501      -0.182       0.373\n",
      "x3             2.3787      1.065      2.234      0.025       0.292       4.465\n",
      "==============================================================================\n"
     ]
    }
   ],
   "metadata": {}
  },
  {
   "cell_type": "code",
   "execution_count": null,
   "source": [],
   "outputs": [],
   "metadata": {}
  },
  {
   "cell_type": "code",
   "execution_count": null,
   "source": [],
   "outputs": [],
   "metadata": {}
  },
  {
   "cell_type": "code",
   "execution_count": null,
   "source": [],
   "outputs": [],
   "metadata": {}
  }
 ],
 "metadata": {
  "orig_nbformat": 4,
  "language_info": {
   "name": "python",
   "version": "3.8.8",
   "mimetype": "text/x-python",
   "codemirror_mode": {
    "name": "ipython",
    "version": 3
   },
   "pygments_lexer": "ipython3",
   "nbconvert_exporter": "python",
   "file_extension": ".py"
  },
  "kernelspec": {
   "name": "python3",
   "display_name": "Python 3.8.8 64-bit ('data-science': conda)"
  },
  "interpreter": {
   "hash": "e0fc2d298a60e7520fddb6e5fb5080b17fe64ddecfb57693d3a58d12f076dfad"
  }
 },
 "nbformat": 4,
 "nbformat_minor": 2
}