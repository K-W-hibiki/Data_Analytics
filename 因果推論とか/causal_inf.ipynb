{
 "cells": [
  {
   "cell_type": "code",
   "execution_count": 1,
   "source": [
    "import lightgbm as lgb\r\n",
    "import matplotlib.font_manager as fm\r\n",
    "import matplotlib.pyplot as plt\r\n",
    "import numpy as np\r\n",
    "import pandas as pd\r\n",
    "import seaborn as sns\r\n",
    "from sklearn.ensemble import RandomForestClassifier, RandomForestRegressor\r\n",
    "from sklearn.linear_model import LinearRegression, LogisticRegression, Ridge\r\n",
    "from sklearn.metrics import log_loss, mean_squared_error, roc_auc_score\r\n",
    "from sklearn.model_selection import KFold, train_test_split\r\n",
    "from sklearn.metrics import roc_curve, auc\r\n",
    "from sklearn.neighbors import NearestNeighbors\r\n",
    "\r\n",
    "\r\n",
    "%matplotlib inline\r\n",
    "# その他設定\r\n",
    "pd.set_option('display.max_columns', 100)\r\n",
    "plt.style.use('seaborn-darkgrid')\r\n",
    "font = fm.FontProperties(fname='./TakaoPGothic.ttf')"
   ],
   "outputs": [],
   "metadata": {
    "ExecuteTime": {
     "end_time": "2019-08-05T10:38:51.205554Z",
     "start_time": "2019-08-05T10:38:51.186032Z"
    }
   }
  },
  {
   "cell_type": "markdown",
   "source": [
    "# 読み込み"
   ],
   "metadata": {}
  },
  {
   "cell_type": "code",
   "execution_count": 2,
   "source": [
    "dataset_url = 'https://raw.githubusercontent.com/iwanami-datascience/vol3/master/kato%26hoshino/q_data_x.csv'\r\n",
    "df = pd.read_csv(dataset_url)\r\n",
    "df.shape"
   ],
   "outputs": [
    {
     "output_type": "execute_result",
     "data": {
      "text/plain": [
       "(10000, 35)"
      ]
     },
     "metadata": {},
     "execution_count": 2
    }
   ],
   "metadata": {
    "ExecuteTime": {
     "end_time": "2019-08-05T10:38:52.186398Z",
     "start_time": "2019-08-05T10:38:52.087777Z"
    }
   }
  },
  {
   "cell_type": "code",
   "execution_count": 3,
   "source": [
    "df.head()"
   ],
   "outputs": [
    {
     "output_type": "execute_result",
     "data": {
      "text/plain": [
       "   cm_dummy  gamedummy  area_kanto  area_keihan  area_tokai  area_keihanshin  \\\n",
       "0         0          0           0            0           0                1   \n",
       "1         0          0           0            1           0                0   \n",
       "2         0          0           0            1           0                0   \n",
       "3         0          0           0            1           0                0   \n",
       "4         0          0           0            1           0                0   \n",
       "\n",
       "    age  sex  marry_dummy  job_dummy1  job_dummy2  job_dummy3  job_dummy4  \\\n",
       "0  44.5    1            1           1           0           0           0   \n",
       "1  34.5    1            1           1           0           0           0   \n",
       "2  24.5    1            0           0           0           0           0   \n",
       "3  44.5    1            1           1           0           0           0   \n",
       "4  34.5    1            1           1           0           0           0   \n",
       "\n",
       "   job_dummy5  job_dummy6  job_dummy7  job_dummy8    inc  pmoney  \\\n",
       "0           0           0           0           0  249.5     0.0   \n",
       "1           0           0           0           0  800.0    12.5   \n",
       "2           0           0           1           0    0.0     2.0   \n",
       "3           0           0           0           0  800.0     2.0   \n",
       "4           0           0           0           0  749.5     4.0   \n",
       "\n",
       "   fam_str_dummy1  fam_str_dummy2  fam_str_dummy3  fam_str_dummy4  \\\n",
       "0               0               0               1               0   \n",
       "1               0               0               1               0   \n",
       "2               0               0               0               1   \n",
       "3               0               0               1               0   \n",
       "4               0               0               1               0   \n",
       "\n",
       "   fam_str_dummy5  child_dummy  T  F1  F2  F3  M1  M2  M3  TVwatch_day  \\\n",
       "0               0            1  0   0   0   0   0   1   0    33.427600   \n",
       "1               0            1  0   0   0   0   0   1   0    31.542862   \n",
       "2               0            0  0   0   0   0   1   0   0    37.825805   \n",
       "3               0            1  0   0   0   0   0   1   0    36.345911   \n",
       "4               0            1  0   0   0   0   1   0   0    49.344942   \n",
       "\n",
       "   gamesecond  gamecount  \n",
       "0           0          0  \n",
       "1           0          0  \n",
       "2           0          0  \n",
       "3           0          0  \n",
       "4           0          0  "
      ],
      "text/html": [
       "<div>\n",
       "<style scoped>\n",
       "    .dataframe tbody tr th:only-of-type {\n",
       "        vertical-align: middle;\n",
       "    }\n",
       "\n",
       "    .dataframe tbody tr th {\n",
       "        vertical-align: top;\n",
       "    }\n",
       "\n",
       "    .dataframe thead th {\n",
       "        text-align: right;\n",
       "    }\n",
       "</style>\n",
       "<table border=\"1\" class=\"dataframe\">\n",
       "  <thead>\n",
       "    <tr style=\"text-align: right;\">\n",
       "      <th></th>\n",
       "      <th>cm_dummy</th>\n",
       "      <th>gamedummy</th>\n",
       "      <th>area_kanto</th>\n",
       "      <th>area_keihan</th>\n",
       "      <th>area_tokai</th>\n",
       "      <th>area_keihanshin</th>\n",
       "      <th>age</th>\n",
       "      <th>sex</th>\n",
       "      <th>marry_dummy</th>\n",
       "      <th>job_dummy1</th>\n",
       "      <th>job_dummy2</th>\n",
       "      <th>job_dummy3</th>\n",
       "      <th>job_dummy4</th>\n",
       "      <th>job_dummy5</th>\n",
       "      <th>job_dummy6</th>\n",
       "      <th>job_dummy7</th>\n",
       "      <th>job_dummy8</th>\n",
       "      <th>inc</th>\n",
       "      <th>pmoney</th>\n",
       "      <th>fam_str_dummy1</th>\n",
       "      <th>fam_str_dummy2</th>\n",
       "      <th>fam_str_dummy3</th>\n",
       "      <th>fam_str_dummy4</th>\n",
       "      <th>fam_str_dummy5</th>\n",
       "      <th>child_dummy</th>\n",
       "      <th>T</th>\n",
       "      <th>F1</th>\n",
       "      <th>F2</th>\n",
       "      <th>F3</th>\n",
       "      <th>M1</th>\n",
       "      <th>M2</th>\n",
       "      <th>M3</th>\n",
       "      <th>TVwatch_day</th>\n",
       "      <th>gamesecond</th>\n",
       "      <th>gamecount</th>\n",
       "    </tr>\n",
       "  </thead>\n",
       "  <tbody>\n",
       "    <tr>\n",
       "      <th>0</th>\n",
       "      <td>0</td>\n",
       "      <td>0</td>\n",
       "      <td>0</td>\n",
       "      <td>0</td>\n",
       "      <td>0</td>\n",
       "      <td>1</td>\n",
       "      <td>44.5</td>\n",
       "      <td>1</td>\n",
       "      <td>1</td>\n",
       "      <td>1</td>\n",
       "      <td>0</td>\n",
       "      <td>0</td>\n",
       "      <td>0</td>\n",
       "      <td>0</td>\n",
       "      <td>0</td>\n",
       "      <td>0</td>\n",
       "      <td>0</td>\n",
       "      <td>249.5</td>\n",
       "      <td>0.0</td>\n",
       "      <td>0</td>\n",
       "      <td>0</td>\n",
       "      <td>1</td>\n",
       "      <td>0</td>\n",
       "      <td>0</td>\n",
       "      <td>1</td>\n",
       "      <td>0</td>\n",
       "      <td>0</td>\n",
       "      <td>0</td>\n",
       "      <td>0</td>\n",
       "      <td>0</td>\n",
       "      <td>1</td>\n",
       "      <td>0</td>\n",
       "      <td>33.427600</td>\n",
       "      <td>0</td>\n",
       "      <td>0</td>\n",
       "    </tr>\n",
       "    <tr>\n",
       "      <th>1</th>\n",
       "      <td>0</td>\n",
       "      <td>0</td>\n",
       "      <td>0</td>\n",
       "      <td>1</td>\n",
       "      <td>0</td>\n",
       "      <td>0</td>\n",
       "      <td>34.5</td>\n",
       "      <td>1</td>\n",
       "      <td>1</td>\n",
       "      <td>1</td>\n",
       "      <td>0</td>\n",
       "      <td>0</td>\n",
       "      <td>0</td>\n",
       "      <td>0</td>\n",
       "      <td>0</td>\n",
       "      <td>0</td>\n",
       "      <td>0</td>\n",
       "      <td>800.0</td>\n",
       "      <td>12.5</td>\n",
       "      <td>0</td>\n",
       "      <td>0</td>\n",
       "      <td>1</td>\n",
       "      <td>0</td>\n",
       "      <td>0</td>\n",
       "      <td>1</td>\n",
       "      <td>0</td>\n",
       "      <td>0</td>\n",
       "      <td>0</td>\n",
       "      <td>0</td>\n",
       "      <td>0</td>\n",
       "      <td>1</td>\n",
       "      <td>0</td>\n",
       "      <td>31.542862</td>\n",
       "      <td>0</td>\n",
       "      <td>0</td>\n",
       "    </tr>\n",
       "    <tr>\n",
       "      <th>2</th>\n",
       "      <td>0</td>\n",
       "      <td>0</td>\n",
       "      <td>0</td>\n",
       "      <td>1</td>\n",
       "      <td>0</td>\n",
       "      <td>0</td>\n",
       "      <td>24.5</td>\n",
       "      <td>1</td>\n",
       "      <td>0</td>\n",
       "      <td>0</td>\n",
       "      <td>0</td>\n",
       "      <td>0</td>\n",
       "      <td>0</td>\n",
       "      <td>0</td>\n",
       "      <td>0</td>\n",
       "      <td>1</td>\n",
       "      <td>0</td>\n",
       "      <td>0.0</td>\n",
       "      <td>2.0</td>\n",
       "      <td>0</td>\n",
       "      <td>0</td>\n",
       "      <td>0</td>\n",
       "      <td>1</td>\n",
       "      <td>0</td>\n",
       "      <td>0</td>\n",
       "      <td>0</td>\n",
       "      <td>0</td>\n",
       "      <td>0</td>\n",
       "      <td>0</td>\n",
       "      <td>1</td>\n",
       "      <td>0</td>\n",
       "      <td>0</td>\n",
       "      <td>37.825805</td>\n",
       "      <td>0</td>\n",
       "      <td>0</td>\n",
       "    </tr>\n",
       "    <tr>\n",
       "      <th>3</th>\n",
       "      <td>0</td>\n",
       "      <td>0</td>\n",
       "      <td>0</td>\n",
       "      <td>1</td>\n",
       "      <td>0</td>\n",
       "      <td>0</td>\n",
       "      <td>44.5</td>\n",
       "      <td>1</td>\n",
       "      <td>1</td>\n",
       "      <td>1</td>\n",
       "      <td>0</td>\n",
       "      <td>0</td>\n",
       "      <td>0</td>\n",
       "      <td>0</td>\n",
       "      <td>0</td>\n",
       "      <td>0</td>\n",
       "      <td>0</td>\n",
       "      <td>800.0</td>\n",
       "      <td>2.0</td>\n",
       "      <td>0</td>\n",
       "      <td>0</td>\n",
       "      <td>1</td>\n",
       "      <td>0</td>\n",
       "      <td>0</td>\n",
       "      <td>1</td>\n",
       "      <td>0</td>\n",
       "      <td>0</td>\n",
       "      <td>0</td>\n",
       "      <td>0</td>\n",
       "      <td>0</td>\n",
       "      <td>1</td>\n",
       "      <td>0</td>\n",
       "      <td>36.345911</td>\n",
       "      <td>0</td>\n",
       "      <td>0</td>\n",
       "    </tr>\n",
       "    <tr>\n",
       "      <th>4</th>\n",
       "      <td>0</td>\n",
       "      <td>0</td>\n",
       "      <td>0</td>\n",
       "      <td>1</td>\n",
       "      <td>0</td>\n",
       "      <td>0</td>\n",
       "      <td>34.5</td>\n",
       "      <td>1</td>\n",
       "      <td>1</td>\n",
       "      <td>1</td>\n",
       "      <td>0</td>\n",
       "      <td>0</td>\n",
       "      <td>0</td>\n",
       "      <td>0</td>\n",
       "      <td>0</td>\n",
       "      <td>0</td>\n",
       "      <td>0</td>\n",
       "      <td>749.5</td>\n",
       "      <td>4.0</td>\n",
       "      <td>0</td>\n",
       "      <td>0</td>\n",
       "      <td>1</td>\n",
       "      <td>0</td>\n",
       "      <td>0</td>\n",
       "      <td>1</td>\n",
       "      <td>0</td>\n",
       "      <td>0</td>\n",
       "      <td>0</td>\n",
       "      <td>0</td>\n",
       "      <td>1</td>\n",
       "      <td>0</td>\n",
       "      <td>0</td>\n",
       "      <td>49.344942</td>\n",
       "      <td>0</td>\n",
       "      <td>0</td>\n",
       "    </tr>\n",
       "  </tbody>\n",
       "</table>\n",
       "</div>"
      ]
     },
     "metadata": {},
     "execution_count": 3
    }
   ],
   "metadata": {
    "ExecuteTime": {
     "end_time": "2019-08-05T10:38:52.854357Z",
     "start_time": "2019-08-05T10:38:52.822697Z"
    },
    "scrolled": true
   }
  },
  {
   "cell_type": "code",
   "execution_count": 8,
   "source": [
    "df.columns"
   ],
   "outputs": [
    {
     "output_type": "execute_result",
     "data": {
      "text/plain": [
       "Index(['cm_dummy', 'gamedummy', 'area_kanto', 'area_keihan', 'area_tokai',\n",
       "       'area_keihanshin', 'age', 'sex', 'marry_dummy', 'job_dummy1',\n",
       "       'job_dummy2', 'job_dummy3', 'job_dummy4', 'job_dummy5', 'job_dummy6',\n",
       "       'job_dummy7', 'job_dummy8', 'inc', 'pmoney', 'fam_str_dummy1',\n",
       "       'fam_str_dummy2', 'fam_str_dummy3', 'fam_str_dummy4', 'fam_str_dummy5',\n",
       "       'child_dummy', 'T', 'F1', 'F2', 'F3', 'M1', 'M2', 'M3', 'TVwatch_day',\n",
       "       'gamesecond', 'gamecount'],\n",
       "      dtype='object')"
      ]
     },
     "metadata": {},
     "execution_count": 8
    }
   ],
   "metadata": {
    "ExecuteTime": {
     "end_time": "2019-08-05T10:38:54.672653Z",
     "start_time": "2019-08-05T10:38:54.664029Z"
    }
   }
  },
  {
   "cell_type": "markdown",
   "source": [
    "# EDA"
   ],
   "metadata": {}
  },
  {
   "cell_type": "markdown",
   "source": [
    "今回は、「CM施策後のゲームの利用時間」であるgamesecondを目的変数とする。  \n",
    "また、CMを見たかの割り当てはcm_dummyである。  \n",
    "詳細は、岩波データサイエンスvol3を参照。"
   ],
   "metadata": {}
  },
  {
   "cell_type": "code",
   "execution_count": 9,
   "source": [
    "df['gamesecond'].describe()"
   ],
   "outputs": [
    {
     "output_type": "execute_result",
     "data": {
      "text/plain": [
       "count     10000.000000\n",
       "mean       2846.783400\n",
       "std       17973.608991\n",
       "min           0.000000\n",
       "25%           0.000000\n",
       "50%           0.000000\n",
       "75%           0.000000\n",
       "max      364814.000000\n",
       "Name: gamesecond, dtype: float64"
      ]
     },
     "metadata": {},
     "execution_count": 9
    }
   ],
   "metadata": {
    "ExecuteTime": {
     "end_time": "2019-08-05T10:38:59.138177Z",
     "start_time": "2019-08-05T10:38:59.124764Z"
    }
   }
  },
  {
   "cell_type": "code",
   "execution_count": 4,
   "source": [
    "fig = plt.figure(figsize=(7, 7))\r\n",
    "ax = fig.add_subplot(1, 1, 1)\r\n",
    "ax = sns.violinplot(x=df[\"gamesecond\"])\r\n",
    "fig.show()"
   ],
   "outputs": [
    {
     "output_type": "stream",
     "name": "stderr",
     "text": [
      "<ipython-input-4-e929540f36a3>:4: UserWarning: Matplotlib is currently using module://ipykernel.pylab.backend_inline, which is a non-GUI backend, so cannot show the figure.\n",
      "  fig.show()\n"
     ]
    },
    {
     "output_type": "display_data",
     "data": {
      "text/plain": [
       "<Figure size 504x504 with 1 Axes>"
      ],
      "image/png": "[encoded data removed]"
     },
     "metadata": {}
    }
   ],
   "metadata": {
    "ExecuteTime": {
     "end_time": "2019-08-05T10:39:00.083405Z",
     "start_time": "2019-08-05T10:38:59.873932Z"
    }
   }
  },
  {
   "cell_type": "markdown",
   "source": [
    "## 割り当てとyの関係の可視化"
   ],
   "metadata": {}
  },
  {
   "cell_type": "markdown",
   "source": [
    "単純に集計すると、割り当てなしの方が効果があるという結果になる。"
   ],
   "metadata": {}
  },
  {
   "cell_type": "code",
   "execution_count": 6,
   "source": [
    "fig = plt.figure(figsize=(7, 7))\r\n",
    "ax = fig.add_subplot(1, 1, 1)\r\n",
    "ax = sns.barplot(x='cm_dummy', y='gamesecond', data=df, ax=ax)\r\n",
    "ax.set_xticklabels(['CM見てない(z=0)', 'CM見た(z=1)'], fontproperties=font)\r\n",
    "ax.set_xlabel('')\r\n",
    "ax.set_ylabel('平均ゲーム利用時間 [秒]', fontproperties=font)\r\n",
    "fig.show()"
   ],
   "outputs": [
    {
     "output_type": "stream",
     "name": "stderr",
     "text": [
      "<ipython-input-6-59c51c980755>:7: UserWarning: Matplotlib is currently using module://ipykernel.pylab.backend_inline, which is a non-GUI backend, so cannot show the figure.\n",
      "  fig.show()\n",
      "findfont: Font family ['meirio'] not found. Falling back to DejaVu Sans.\n",
      "C:\\Users\\kyotn\\Anaconda3\\envs\\data-science\\lib\\site-packages\\matplotlib\\backends\\backend_agg.py:238: RuntimeWarning: Glyph 35211 missing from current font.\n",
      "  font.set_text(s, 0.0, flags=flags)\n",
      "C:\\Users\\kyotn\\Anaconda3\\envs\\data-science\\lib\\site-packages\\matplotlib\\backends\\backend_agg.py:238: RuntimeWarning: Glyph 12390 missing from current font.\n",
      "  font.set_text(s, 0.0, flags=flags)\n",
      "C:\\Users\\kyotn\\Anaconda3\\envs\\data-science\\lib\\site-packages\\matplotlib\\backends\\backend_agg.py:238: RuntimeWarning: Glyph 12394 missing from current font.\n",
      "  font.set_text(s, 0.0, flags=flags)\n",
      "C:\\Users\\kyotn\\Anaconda3\\envs\\data-science\\lib\\site-packages\\matplotlib\\backends\\backend_agg.py:238: RuntimeWarning: Glyph 12356 missing from current font.\n",
      "  font.set_text(s, 0.0, flags=flags)\n",
      "C:\\Users\\kyotn\\Anaconda3\\envs\\data-science\\lib\\site-packages\\matplotlib\\backends\\backend_agg.py:238: RuntimeWarning: Glyph 12383 missing from current font.\n",
      "  font.set_text(s, 0.0, flags=flags)\n",
      "C:\\Users\\kyotn\\Anaconda3\\envs\\data-science\\lib\\site-packages\\matplotlib\\backends\\backend_agg.py:238: RuntimeWarning: Glyph 24179 missing from current font.\n",
      "  font.set_text(s, 0.0, flags=flags)\n",
      "C:\\Users\\kyotn\\Anaconda3\\envs\\data-science\\lib\\site-packages\\matplotlib\\backends\\backend_agg.py:238: RuntimeWarning: Glyph 22343 missing from current font.\n",
      "  font.set_text(s, 0.0, flags=flags)\n",
      "C:\\Users\\kyotn\\Anaconda3\\envs\\data-science\\lib\\site-packages\\matplotlib\\backends\\backend_agg.py:238: RuntimeWarning: Glyph 12466 missing from current font.\n",
      "  font.set_text(s, 0.0, flags=flags)\n",
      "C:\\Users\\kyotn\\Anaconda3\\envs\\data-science\\lib\\site-packages\\matplotlib\\backends\\backend_agg.py:238: RuntimeWarning: Glyph 12540 missing from current font.\n",
      "  font.set_text(s, 0.0, flags=flags)\n",
      "C:\\Users\\kyotn\\Anaconda3\\envs\\data-science\\lib\\site-packages\\matplotlib\\backends\\backend_agg.py:238: RuntimeWarning: Glyph 12512 missing from current font.\n",
      "  font.set_text(s, 0.0, flags=flags)\n",
      "C:\\Users\\kyotn\\Anaconda3\\envs\\data-science\\lib\\site-packages\\matplotlib\\backends\\backend_agg.py:238: RuntimeWarning: Glyph 21033 missing from current font.\n",
      "  font.set_text(s, 0.0, flags=flags)\n",
      "C:\\Users\\kyotn\\Anaconda3\\envs\\data-science\\lib\\site-packages\\matplotlib\\backends\\backend_agg.py:238: RuntimeWarning: Glyph 29992 missing from current font.\n",
      "  font.set_text(s, 0.0, flags=flags)\n",
      "C:\\Users\\kyotn\\Anaconda3\\envs\\data-science\\lib\\site-packages\\matplotlib\\backends\\backend_agg.py:238: RuntimeWarning: Glyph 26178 missing from current font.\n",
      "  font.set_text(s, 0.0, flags=flags)\n",
      "C:\\Users\\kyotn\\Anaconda3\\envs\\data-science\\lib\\site-packages\\matplotlib\\backends\\backend_agg.py:238: RuntimeWarning: Glyph 38291 missing from current font.\n",
      "  font.set_text(s, 0.0, flags=flags)\n",
      "C:\\Users\\kyotn\\Anaconda3\\envs\\data-science\\lib\\site-packages\\matplotlib\\backends\\backend_agg.py:238: RuntimeWarning: Glyph 31186 missing from current font.\n",
      "  font.set_text(s, 0.0, flags=flags)\n",
      "C:\\Users\\kyotn\\Anaconda3\\envs\\data-science\\lib\\site-packages\\matplotlib\\backends\\backend_agg.py:201: RuntimeWarning: Glyph 35211 missing from current font.\n",
      "  font.set_text(s, 0, flags=flags)\n",
      "C:\\Users\\kyotn\\Anaconda3\\envs\\data-science\\lib\\site-packages\\matplotlib\\backends\\backend_agg.py:201: RuntimeWarning: Glyph 12390 missing from current font.\n",
      "  font.set_text(s, 0, flags=flags)\n",
      "C:\\Users\\kyotn\\Anaconda3\\envs\\data-science\\lib\\site-packages\\matplotlib\\backends\\backend_agg.py:201: RuntimeWarning: Glyph 12394 missing from current font.\n",
      "  font.set_text(s, 0, flags=flags)\n",
      "C:\\Users\\kyotn\\Anaconda3\\envs\\data-science\\lib\\site-packages\\matplotlib\\backends\\backend_agg.py:201: RuntimeWarning: Glyph 12356 missing from current font.\n",
      "  font.set_text(s, 0, flags=flags)\n",
      "C:\\Users\\kyotn\\Anaconda3\\envs\\data-science\\lib\\site-packages\\matplotlib\\backends\\backend_agg.py:201: RuntimeWarning: Glyph 12383 missing from current font.\n",
      "  font.set_text(s, 0, flags=flags)\n",
      "C:\\Users\\kyotn\\Anaconda3\\envs\\data-science\\lib\\site-packages\\matplotlib\\backends\\backend_agg.py:201: RuntimeWarning: Glyph 24179 missing from current font.\n",
      "  font.set_text(s, 0, flags=flags)\n",
      "C:\\Users\\kyotn\\Anaconda3\\envs\\data-science\\lib\\site-packages\\matplotlib\\backends\\backend_agg.py:201: RuntimeWarning: Glyph 22343 missing from current font.\n",
      "  font.set_text(s, 0, flags=flags)\n",
      "C:\\Users\\kyotn\\Anaconda3\\envs\\data-science\\lib\\site-packages\\matplotlib\\backends\\backend_agg.py:201: RuntimeWarning: Glyph 12466 missing from current font.\n",
      "  font.set_text(s, 0, flags=flags)\n",
      "C:\\Users\\kyotn\\Anaconda3\\envs\\data-science\\lib\\site-packages\\matplotlib\\backends\\backend_agg.py:201: RuntimeWarning: Glyph 12540 missing from current font.\n",
      "  font.set_text(s, 0, flags=flags)\n",
      "C:\\Users\\kyotn\\Anaconda3\\envs\\data-science\\lib\\site-packages\\matplotlib\\backends\\backend_agg.py:201: RuntimeWarning: Glyph 12512 missing from current font.\n",
      "  font.set_text(s, 0, flags=flags)\n",
      "C:\\Users\\kyotn\\Anaconda3\\envs\\data-science\\lib\\site-packages\\matplotlib\\backends\\backend_agg.py:201: RuntimeWarning: Glyph 21033 missing from current font.\n",
      "  font.set_text(s, 0, flags=flags)\n",
      "C:\\Users\\kyotn\\Anaconda3\\envs\\data-science\\lib\\site-packages\\matplotlib\\backends\\backend_agg.py:201: RuntimeWarning: Glyph 29992 missing from current font.\n",
      "  font.set_text(s, 0, flags=flags)\n",
      "C:\\Users\\kyotn\\Anaconda3\\envs\\data-science\\lib\\site-packages\\matplotlib\\backends\\backend_agg.py:201: RuntimeWarning: Glyph 26178 missing from current font.\n",
      "  font.set_text(s, 0, flags=flags)\n",
      "C:\\Users\\kyotn\\Anaconda3\\envs\\data-science\\lib\\site-packages\\matplotlib\\backends\\backend_agg.py:201: RuntimeWarning: Glyph 38291 missing from current font.\n",
      "  font.set_text(s, 0, flags=flags)\n",
      "C:\\Users\\kyotn\\Anaconda3\\envs\\data-science\\lib\\site-packages\\matplotlib\\backends\\backend_agg.py:201: RuntimeWarning: Glyph 31186 missing from current font.\n",
      "  font.set_text(s, 0, flags=flags)\n"
     ]
    },
    {
     "output_type": "display_data",
     "data": {
      "text/plain": [
       "<Figure size 504x504 with 1 Axes>"
      ],
      "image/png": "[encoded data removed]"
     },
     "metadata": {}
    }
   ],
   "metadata": {
    "ExecuteTime": {
     "end_time": "2019-08-05T10:39:02.725891Z",
     "start_time": "2019-08-05T10:39:02.306799Z"
    }
   }
  },
  {
   "cell_type": "code",
   "execution_count": 12,
   "source": [
    "fig = plt.figure(figsize=(7, 7))\r\n",
    "ax = fig.add_subplot(1, 1, 1)\r\n",
    "ax = sns.violinplot(x='cm_dummy', y='gamesecond', data=df, ax=ax)\r\n",
    "ax.set_xticklabels(['CM見てない(z=0)', 'CM見た(z=1)'], fontproperties=font)\r\n",
    "fig.show()"
   ],
   "outputs": [
    {
     "output_type": "display_data",
     "data": {
      "text/plain": [
       "<Figure size 504x504 with 1 Axes>"
      ],
      "image/png": "[encoded data removed]"
     },
     "metadata": {}
    }
   ],
   "metadata": {
    "ExecuteTime": {
     "end_time": "2019-08-05T10:39:03.708064Z",
     "start_time": "2019-08-05T10:39:03.474735Z"
    }
   }
  },
  {
   "cell_type": "code",
   "execution_count": 13,
   "source": [
    "for z in (0, 1):\r\n",
    "    df_tmp = df[df['cm_dummy'] == z]\r\n",
    "    print(z, df_tmp['gamesecond'].describe())"
   ],
   "outputs": [
    {
     "output_type": "stream",
     "name": "stdout",
     "text": [
      "0 count      5856.000000\n",
      "mean       3107.706455\n",
      "std       19496.771900\n",
      "min           0.000000\n",
      "25%           0.000000\n",
      "50%           0.000000\n",
      "75%           0.000000\n",
      "max      364814.000000\n",
      "Name: gamesecond, dtype: float64\n",
      "1 count      4144.000000\n",
      "mean       2478.065878\n",
      "std       15564.015196\n",
      "min           0.000000\n",
      "25%           0.000000\n",
      "50%           0.000000\n",
      "75%           0.000000\n",
      "max      223096.000000\n",
      "Name: gamesecond, dtype: float64\n"
     ]
    }
   ],
   "metadata": {
    "ExecuteTime": {
     "end_time": "2019-08-05T10:39:03.755466Z",
     "start_time": "2019-08-05T10:39:03.741530Z"
    },
    "scrolled": true
   }
  },
  {
   "cell_type": "markdown",
   "source": [
    "# 傾向スコアモデリング"
   ],
   "metadata": {
    "ExecuteTime": {
     "end_time": "2019-07-07T09:44:51.163344Z",
     "start_time": "2019-07-07T09:44:51.160486Z"
    }
   }
  },
  {
   "cell_type": "markdown",
   "source": [
    "$P(z|x)$を求める  。  \n",
    "モデルは別になんでも良い。  \n",
    "一応、CVを切る。  \n",
    "パラメータチューニングは省略。"
   ],
   "metadata": {}
  },
  {
   "cell_type": "code",
   "execution_count": 7,
   "source": [
    "z_col = 'cm_dummy'\r\n",
    "x_cols = [\r\n",
    "    col for col in df.columns\r\n",
    "    if col not in ['gamecount', 'gamedummy', 'gamesecond', 'cm_dummy']\r\n",
    "]\r\n",
    "df_x = df[x_cols]\r\n",
    "df_z = df[z_col]\r\n",
    "df_x.shape, df_z.shape"
   ],
   "outputs": [
    {
     "output_type": "execute_result",
     "data": {
      "text/plain": [
       "((10000, 31), (10000,))"
      ]
     },
     "metadata": {},
     "execution_count": 7
    }
   ],
   "metadata": {
    "ExecuteTime": {
     "end_time": "2019-08-05T10:40:31.682814Z",
     "start_time": "2019-08-05T10:40:31.668035Z"
    }
   }
  },
  {
   "cell_type": "markdown",
   "source": [
    "## 各種モデルの学習"
   ],
   "metadata": {
    "ExecuteTime": {
     "end_time": "2019-07-14T05:43:59.977559Z",
     "start_time": "2019-07-14T05:43:59.974123Z"
    }
   }
  },
  {
   "cell_type": "markdown",
   "source": [
    "### 学習_refact"
   ],
   "metadata": {}
  },
  {
   "cell_type": "code",
   "execution_count": null,
   "source": [
    "test_ratio = 0.2\r\n",
    "oof_preds_lgb = np.zeros(df.shape[0])\r\n",
    "oof_preds_lr = np.zeros(df.shape[0])\r\n",
    "oof_preds_rf = np.zeros(df.shape[0])\r\n",
    "insample_logloss_list_lgb = []\r\n",
    "insample_logloss_list_lr = []\r\n",
    "insample_logloss_list_rf = []\r\n",
    "feature_importance_df = pd.DataFrame()\r\n",
    "\r\n",
    "kf = KFold(n_splits=5, shuffle=True, random_state=0)\r\n",
    "for n_fold, (train_index, valid_index) in enumerate(kf.split(df_x)):\r\n",
    "    print('CV_{}'.format(n_fold))\r\n",
    "    X_train, z_train = df_x.values[train_index], df_z.values[train_index]\r\n",
    "    X_test, z_test = df_x.values[valid_index], df_z.values[valid_index]\r\n",
    "\r\n",
    "    # train -> TRAIN / VALに分割\r\n",
    "    num_test = int(len(X_train) * test_ratio)\r\n",
    "    index_all = np.random.choice(len(X_train),  len(X_train), replace=False)\r\n",
    "    index_VAL = index_all[0:num_test]\r\n",
    "    index_TRAIN = index_all[num_test:len(X_train)]\r\n",
    "    X_TRAIN, z_TRAIN = X_train[index_TRAIN], z_train[index_TRAIN]\r\n",
    "    X_VAL, z_VAL = X_train[index_VAL], z_train[index_VAL]\r\n",
    "    lgb_train = lgb.Dataset(X_TRAIN, label=z_TRAIN, free_raw_data=False)\r\n",
    "    lgb_val = lgb.Dataset(X_VAL, label=z_VAL, free_raw_data=False)\r\n",
    "\r\n",
    "    # LightGBM\r\n",
    "    print('LightGBM_fitting...')\r\n",
    "    params = {\r\n",
    "        'task': 'train',\r\n",
    "        'objective': 'binary',\r\n",
    "        'metric': 'binary',\r\n",
    "    }\r\n",
    "    model_lgb = lgb.train(\r\n",
    "        params,\r\n",
    "        lgb_train,\r\n",
    "        valid_sets=[lgb_train, lgb_val],\r\n",
    "        valid_names=['train', 'val'],\r\n",
    "        num_boost_round=100000,\r\n",
    "        early_stopping_rounds=100,\r\n",
    "        verbose_eval=1000)\r\n",
    "    # LogisticRegression\r\n",
    "    print('LogisticRegression_fitting...')\r\n",
    "    model_lr = LogisticRegression()\r\n",
    "    model_lr.fit(X_train, z_train)\r\n",
    "\r\n",
    "    #RF\r\n",
    "    print('RandomForestClassifier_fitting...')\r\n",
    "    model_rf =  RandomForestClassifier(n_estimators=500)\r\n",
    "    model_rf.fit(X_train, z_train)\r\n",
    "    \r\n",
    "    # pred_for_insample\r\n",
    "    # NOTE: 正確にはLightGBMではTrain ->(TRAIN., VAL)に分割している\r\n",
    "    pred_insample_lgb = model_lgb.predict(X_train, num_iteration=model_lgb.best_iteration)\r\n",
    "    pred_insample_lr =   model_lr.predict_proba(X_train)[:, 1]\r\n",
    "    pred_insample_rf =   model_rf.predict_proba(X_train)[:, 1]\r\n",
    "    insample_logloss_lgb = (log_loss(z_train, pred_insample_lgb))\r\n",
    "    insample_logloss_lr = (log_loss(z_train, pred_insample_lr))\r\n",
    "    insample_logloss_rf = (log_loss(z_train, pred_insample_rf))\r\n",
    "    print('insample_logloss_of_LightGBM:{}'.format(insample_logloss_lgb))\r\n",
    "    print('insample_logloss_of_LogisticRegression:{}'.format(insample_logloss_lr))\r\n",
    "    print('insample_logloss_of_RandomForestClassifier:{}'.format(insample_logloss_rf))\r\n",
    "    insample_logloss_list_lgb.append(insample_logloss_lgb)\r\n",
    "    insample_logloss_list_lr.append(insample_logloss_lr)\r\n",
    "    insample_logloss_list_rf.append(insample_logloss_rf)\r\n",
    "\r\n",
    "    # pred_for_oof\r\n",
    "    oof_pred_lgb = model_lgb.predict(X_test, num_iteration=model_lgb.best_iteration)\r\n",
    "    oof_pred_lr = model_lr.predict_proba(X_test)[:, 1]\r\n",
    "    oof_pred_rf = model_rf.predict_proba(X_test)[:, 1]\r\n",
    "    \r\n",
    "    oof_preds_lgb[valid_index] = oof_pred_lgb\r\n",
    "    oof_preds_lr[valid_index] = oof_pred_lr\r\n",
    "    oof_preds_rf[valid_index] = oof_pred_rf\r\n",
    "\r\n",
    "    oof_logloss_lgb = (log_loss(z_test, oof_pred_lgb))\r\n",
    "    oof_logloss_lr = (log_loss(z_test, oof_pred_lr))\r\n",
    "    oof_logloss_rf = (log_loss(z_test,oof_pred_rf))\r\n",
    "    print('oof_logloss_of_LightGBM:{}'.format(oof_logloss_lgb))\r\n",
    "    print('oof_logloss_of_LogisticRegression:{}'.format(oof_logloss_lr))\r\n",
    "    print('oof_logloss_of_RandomForestClassifier:{}'.format(oof_logloss_rf))\r\n",
    "\r\n",
    "\r\n",
    "    # 重要度の算出\r\n",
    "    fold_importance_df = pd.DataFrame()\r\n",
    "    fold_importance_df[\"feature\"] = x_cols\r\n",
    "    fold_importance_df[\"importance\"] = np.log1p(\r\n",
    "        model_lgb.feature_importance(\r\n",
    "        importance_type='gain', iteration=model_lgb.best_iteration))\r\n",
    "    fold_importance_df[\"fold\"] = n_fold + 1\r\n",
    "    feature_importance_df = pd.concat(\r\n",
    "        [feature_importance_df, fold_importance_df], axis=0)\r\n",
    "\r\n",
    "print('all_CV_done')\r\n",
    "print('CV_insample_logloss_of_LightGBM:{}'.format(np.mean(insample_logloss_list_lgb)))\r\n",
    "print('CV_insample_logloss_of_LogisticRegression:{}'.format(np.mean(insample_logloss_list_lr)))\r\n",
    "print('CV_insample_logloss_of_RandomForestClassifier:{}'.format(np.mean(insample_logloss_list_rf)))\r\n",
    "print('CV_oof_logloss_of_LightGBM:{}'.format(log_loss(df_z, oof_preds_lgb)))\r\n",
    "print('CV_oof_logloss_of_LogisticRegression:{}'.format(log_loss(df_z, oof_preds_lr)))\r\n",
    "print('CV_oof_logloss_of_RandomForestClassifier:{}'.format(log_loss(df_z, oof_preds_rf)))\r\n",
    "\r\n",
    "# #予測値をdfに追加\r\n",
    "df['pred_lgb'] = oof_preds_lgb\r\n",
    "df['pred_lr'] = oof_preds_lr\r\n",
    "df['pred_rf'] = oof_preds_rf"
   ],
   "outputs": [],
   "metadata": {
    "ExecuteTime": {
     "end_time": "2019-08-05T12:04:20.794707Z",
     "start_time": "2019-08-05T12:04:00.309464Z"
    }
   }
  },
  {
   "cell_type": "code",
   "execution_count": 9,
   "source": [
    "df['cm_dummy'].mean(), df['pred_lgb'].mean(), df['pred_lr'].mean(), df['pred_rf'].mean()"
   ],
   "outputs": [
    {
     "output_type": "execute_result",
     "data": {
      "text/plain": [
       "(0.4144, 0.41440709668188663, 0.414746345115542, 0.414383)"
      ]
     },
     "metadata": {},
     "execution_count": 9
    }
   ],
   "metadata": {
    "ExecuteTime": {
     "end_time": "2019-07-15T11:32:23.786743Z",
     "start_time": "2019-07-15T11:32:23.781433Z"
    }
   }
  },
  {
   "cell_type": "markdown",
   "source": [
    "### importance の可視化"
   ],
   "metadata": {}
  },
  {
   "cell_type": "code",
   "execution_count": 10,
   "source": [
    "def display_importances(feature_importance_df_, png_path=None):\r\n",
    "    cols = feature_importance_df_[[\r\n",
    "        \"feature\", \"importance\"\r\n",
    "    ]].groupby(\"feature\").mean().sort_values(\r\n",
    "        by=\"importance\", ascending=False)[:100].index\r\n",
    "    best_features = feature_importance_df_.loc[\r\n",
    "        feature_importance_df_.feature.isin(cols)]\r\n",
    "\r\n",
    "    plt.figure(figsize=(12, 15))\r\n",
    "    sns.barplot(\r\n",
    "        x=\"importance\",\r\n",
    "        y=\"feature\",\r\n",
    "        data=best_features.sort_values(by=\"importance\", ascending=False))\r\n",
    "    plt.title('LightGBM Features (avg over folds)')\r\n",
    "    plt.tight_layout()\r\n",
    "    if png_path is not None:\r\n",
    "        plt.savefig(png_path)"
   ],
   "outputs": [],
   "metadata": {
    "ExecuteTime": {
     "end_time": "2019-08-05T11:09:34.593668Z",
     "start_time": "2019-08-05T11:09:34.580126Z"
    }
   }
  },
  {
   "cell_type": "code",
   "execution_count": 54,
   "source": [
    "display_importances(feature_importance_df)"
   ],
   "outputs": [
    {
     "output_type": "stream",
     "name": "stderr",
     "text": [
      "/usr/local/lib/python3.5/dist-packages/scipy/stats/stats.py:1713: FutureWarning: Using a non-tuple sequence for multidimensional indexing is deprecated; use `arr[tuple(seq)]` instead of `arr[seq]`. In the future this will be interpreted as an array index, `arr[np.array(seq)]`, which will result either in an error or a different result.\n",
      "  return np.add.reduce(sorted[indexer] * weights, axis=axis) / sumval\n"
     ]
    },
    {
     "output_type": "display_data",
     "data": {
      "text/plain": [
       "<Figure size 864x1080 with 1 Axes>"
      ],
      "image/png": "[encoded data removed]"
     },
     "metadata": {}
    }
   ],
   "metadata": {
    "ExecuteTime": {
     "end_time": "2019-08-05T11:09:37.970670Z",
     "start_time": "2019-08-05T11:09:36.904536Z"
    },
    "scrolled": true
   }
  },
  {
   "cell_type": "markdown",
   "source": [
    "## ROC曲線 / AUC(c統計量の算出)"
   ],
   "metadata": {}
  },
  {
   "cell_type": "code",
   "execution_count": 11,
   "source": [
    "fig = plt.figure(figsize=[6, 6])\r\n",
    "ax = fig.add_subplot(111, aspect='equal')\r\n",
    "for model in ['lgb', 'rf', 'lr']:\r\n",
    "    prob = df['pred_{}'.format(model)]\r\n",
    "    fpr, tpr, t = roc_curve(df['cm_dummy'], prob)\r\n",
    "    roc_auc = auc(fpr, tpr)\r\n",
    "    print('model:{}_auc:{:.6f}'.format(model, roc_auc))\r\n",
    "    ax.plot(fpr, tpr, lw=2, alpha=0.3, label='{}_ROC(AUC = {:.6f})'.format(model, roc_auc))\r\n",
    "ax.legend(prop={'size': 10})\r\n",
    "fig.show()"
   ],
   "outputs": [
    {
     "output_type": "stream",
     "name": "stdout",
     "text": [
      "model:lgb_auc:0.999998\n",
      "model:rf_auc:1.000000\n",
      "model:lr_auc:0.781683\n"
     ]
    },
    {
     "output_type": "stream",
     "name": "stderr",
     "text": [
      "<ipython-input-11-37b2c5f7c28d>:10: UserWarning: Matplotlib is currently using module://ipykernel.pylab.backend_inline, which is a non-GUI backend, so cannot show the figure.\n",
      "  fig.show()\n"
     ]
    },
    {
     "output_type": "display_data",
     "data": {
      "text/plain": [
       "<Figure size 432x432 with 1 Axes>"
      ],
      "image/png": "[encoded data removed]"
     },
     "metadata": {}
    }
   ],
   "metadata": {
    "ExecuteTime": {
     "end_time": "2019-08-05T12:03:21.382080Z",
     "start_time": "2019-08-05T12:03:21.145076Z"
    }
   }
  },
  {
   "cell_type": "markdown",
   "source": [
    "## 傾向スコアの分布の確認"
   ],
   "metadata": {}
  },
  {
   "cell_type": "code",
   "execution_count": 12,
   "source": [
    "def visualize_ps(model, png_path=None):\r\n",
    "    fig = plt.figure(figsize=[6, 6])\r\n",
    "    ax = fig.add_subplot(111)\r\n",
    "    bins = np.linspace(0, 1, 100)\r\n",
    "    ax.hist(\r\n",
    "        df[df['cm_dummy'] == 0]['pred_{}'.format(model)],\r\n",
    "        bins=bins,\r\n",
    "        color='red',\r\n",
    "        width=0.01,\r\n",
    "        alpha=0.2,\r\n",
    "        label='ctr')\r\n",
    "    ax.hist(\r\n",
    "        df[df['cm_dummy'] == 1]['pred_{}'.format(model)],\r\n",
    "        bins=bins,\r\n",
    "        color='blue',\r\n",
    "        width=0.01,\r\n",
    "        alpha=0.2,\r\n",
    "        label='test')\r\n",
    "    ax.set_xlim(0, 1.0)\r\n",
    "    ax.legend(prop={'size': 10})\r\n",
    "    ax.set_title('{}_PS'.format(model), fontdict={'fontsize': 10})\r\n",
    "    fig.show()\r\n",
    "    if png_path is not None:\r\n",
    "        fig.savefig(png_path)"
   ],
   "outputs": [],
   "metadata": {
    "ExecuteTime": {
     "end_time": "2019-08-05T11:16:51.739827Z",
     "start_time": "2019-08-05T11:16:51.724269Z"
    },
    "scrolled": true
   }
  },
  {
   "cell_type": "code",
   "execution_count": 13,
   "source": [
    "for model in ['lgb', 'lr', 'rf']:\r\n",
    "    visualize_ps(model)"
   ],
   "outputs": [
    {
     "output_type": "stream",
     "name": "stderr",
     "text": [
      "<ipython-input-12-faa3fe13c534>:22: UserWarning: Matplotlib is currently using module://ipykernel.pylab.backend_inline, which is a non-GUI backend, so cannot show the figure.\n",
      "  fig.show()\n",
      "<ipython-input-12-faa3fe13c534>:22: UserWarning: Matplotlib is currently using module://ipykernel.pylab.backend_inline, which is a non-GUI backend, so cannot show the figure.\n",
      "  fig.show()\n",
      "<ipython-input-12-faa3fe13c534>:22: UserWarning: Matplotlib is currently using module://ipykernel.pylab.backend_inline, which is a non-GUI backend, so cannot show the figure.\n",
      "  fig.show()\n"
     ]
    },
    {
     "output_type": "display_data",
     "data": {
      "text/plain": [
       "<Figure size 432x432 with 1 Axes>"
      ],
      "image/png": "[encoded data removed]"
     },
     "metadata": {}
    },
    {
     "output_type": "display_data",
     "data": {
      "text/plain": [
       "<Figure size 432x432 with 1 Axes>"
      ],
      "image/png": "[encoded data removed]"
     },
     "metadata": {}
    },
    {
     "output_type": "display_data",
     "data": {
      "text/plain": [
       "<Figure size 432x432 with 1 Axes>"
      ],
      "image/png": "[encoded data removed]"
     },
     "metadata": {}
    }
   ],
   "metadata": {
    "ExecuteTime": {
     "end_time": "2019-08-05T11:17:02.433196Z",
     "start_time": "2019-08-05T11:17:00.307098Z"
    }
   }
  },
  {
   "cell_type": "markdown",
   "source": [
    "## 傾向スコアの逆数で共変量を重み付け"
   ],
   "metadata": {}
  },
  {
   "cell_type": "code",
   "execution_count": 14,
   "source": [
    "col = 'TVwatch_day'\r\n",
    "model = 'lr'\r\n",
    "z_col = 'cm_dummy'\r\n",
    "ps_col = 'pred_{}'.format(model)\r\n",
    "\r\n",
    "df_test = df.loc[df[z_col] == 1][[col, ps_col]]\r\n",
    "df_ctr = df.loc[df[z_col] == 0][[col, ps_col]]\r\n",
    "x_test_inv = df_test[col] / df_test[ps_col]\r\n",
    "x_ctr_inv = df_ctr[col] / (1 - df_ctr[ps_col])\r\n",
    "\r\n",
    "fig = plt.figure(figsize=[12, 6])\r\n",
    "ax = fig.add_subplot(211)\r\n",
    "bins = 100\r\n",
    "ax.hist(df_ctr[col], bins=bins, color='red', alpha=0.2, label='ctr', density=True)\r\n",
    "ax.hist(df_test[col], bins=bins, color='blue', alpha=0.2, label='test', density=True)\r\n",
    "ax.legend(prop={'size': 10})\r\n",
    "ax.set_title('before_inv', fontdict={'fontsize': 10})\r\n",
    "ax.set_xlim(0, 100000)\r\n",
    "ax.set_ylim(0, 0.00025)\r\n",
    "\r\n",
    "ax = fig.add_subplot(212)\r\n",
    "ax.hist(x_ctr_inv, bins=bins, color='red', alpha=0.2, label='ctr', density=True)\r\n",
    "ax.hist(x_test_inv, bins=bins, color='blue', alpha=0.2, label='test', density=True)\r\n",
    "ax.legend(prop={'size': 10})\r\n",
    "ax.set_title('after_inv', fontdict={'fontsize': 10})\r\n",
    "ax.set_xlim(0, 100000)\r\n",
    "ax.set_ylim(0, 0.00025)\r\n",
    "\r\n",
    "fig.show()"
   ],
   "outputs": [
    {
     "output_type": "stream",
     "name": "stderr",
     "text": [
      "<ipython-input-14-8d31eff35305>:29: UserWarning: Matplotlib is currently using module://ipykernel.pylab.backend_inline, which is a non-GUI backend, so cannot show the figure.\n",
      "  fig.show()\n"
     ]
    },
    {
     "output_type": "display_data",
     "data": {
      "text/plain": [
       "<Figure size 864x432 with 2 Axes>"
      ],
      "image/png": "[encoded data removed]"
     },
     "metadata": {}
    }
   ],
   "metadata": {
    "ExecuteTime": {
     "end_time": "2019-07-27T06:51:58.874390Z",
     "start_time": "2019-07-27T06:51:57.417095Z"
    }
   }
  },
  {
   "cell_type": "markdown",
   "source": [
    "# 傾向スコアマッチング"
   ],
   "metadata": {}
  },
  {
   "cell_type": "markdown",
   "source": [
    "## マッチング "
   ],
   "metadata": {}
  },
  {
   "cell_type": "markdown",
   "source": [
    "主だったライブラリが見つからなかったので、do whyライブラリを元に改造  \n",
    "https://github.com/microsoft/dowhy/blob/91d175b9fc8f61af28dfccdeda2556acdc977ff2/dowhy/causal_estimators/propensity_score_matching_estimator.py"
   ],
   "metadata": {}
  },
  {
   "cell_type": "code",
   "execution_count": 20,
   "source": [
    "def ps_matching(df, y_col, z_col, ps_col, caliper=None):\r\n",
    "    treated = df.loc[df[z_col] == 1]\r\n",
    "    control = df.loc[df[z_col] == 0]\r\n",
    "    control_neighbors = (NearestNeighbors(\r\n",
    "        n_neighbors=1,\r\n",
    "        algorithm='ball_tree').fit(control[ps_col].values.reshape(-1, 1)))\r\n",
    "    distances, indices = control_neighbors.kneighbors(\r\n",
    "        treated[ps_col].values.reshape(-1, 1))\r\n",
    "    print('num_of_test_{}'.format(len(treated)))\r\n",
    "    if caliper is not None:\r\n",
    "        less_caliper_index = np.where(distances.reshape(-1) <= caliper)\r\n",
    "        distances = distances[less_caliper_index]\r\n",
    "        indices = indices[less_caliper_index]\r\n",
    "\r\n",
    "    # estimate ATE on treated by summing over difference between matched neighbors\r\n",
    "    ate = 0\r\n",
    "    numtreatedunits = len(indices)\r\n",
    "    print('num_of_pair_{}'.format(numtreatedunits))\r\n",
    "\r\n",
    "    df_pair_test =  pd.DataFrame(columns=df.columns)\r\n",
    "    df_pair_ctr = pd.DataFrame(columns=df.columns)\r\n",
    "    for i in range(numtreatedunits):\r\n",
    "        treated_outcome = treated.iloc[i][y_col].item()\r\n",
    "        control_outcome = control.iloc[indices[i]][y_col].item()\r\n",
    "        ate += treated_outcome - control_outcome\r\n",
    "        df_pair_ctr = df_pair_ctr.append(control.iloc[indices[i], :])\r\n",
    "        df_pair_test = df_pair_test.append(treated.iloc[i, :])\r\n",
    "    ate /= numtreatedunits\r\n",
    "\r\n",
    "    # matchしたテスコンを1行\r\n",
    "    df_pair_ctr.reset_index(inplace=True)\r\n",
    "    df_pair_test.reset_index(inplace=True)\r\n",
    "    df_pair_ctr.columns = [\"ctr_\" + colname for colname in df_pair_ctr.columns]\r\n",
    "    df_pair_test.columns = [\"test_\" + colname for colname in df_pair_test.columns]\r\n",
    "\r\n",
    "    df_pair = pd.concat([df_pair_test, df_pair_ctr], axis=1)\r\n",
    "    print(ate)\r\n",
    "    return ate, df_pair"
   ],
   "outputs": [],
   "metadata": {
    "ExecuteTime": {
     "end_time": "2019-07-21T06:52:29.124507Z",
     "start_time": "2019-07-21T06:52:29.104684Z"
    }
   }
  },
  {
   "cell_type": "code",
   "execution_count": 21,
   "source": [
    "ate, df_pair = ps_matching(df, y_col='gamesecond',  z_col='cm_dummy', ps_col='pred_lr', caliper=0.2)\r\n",
    "ate"
   ],
   "outputs": [
    {
     "output_type": "stream",
     "name": "stdout",
     "text": [
      "num_of_test_4144\n",
      "num_of_pair_4144\n",
      "-2.454391891891892\n"
     ]
    },
    {
     "output_type": "execute_result",
     "data": {
      "text/plain": [
       "-2.454391891891892"
      ]
     },
     "metadata": {},
     "execution_count": 21
    }
   ],
   "metadata": {
    "ExecuteTime": {
     "end_time": "2019-07-21T06:52:53.869750Z",
     "start_time": "2019-07-21T06:52:30.234911Z"
    }
   }
  },
  {
   "cell_type": "code",
   "execution_count": 18,
   "source": [
    "sum(df_pair['test_gamesecond'] - df_pair['ctr_gamesecond']) / 4144"
   ],
   "outputs": [
    {
     "output_type": "execute_result",
     "data": {
      "text/plain": [
       "-2.454391891891892"
      ]
     },
     "metadata": {},
     "execution_count": 18
    }
   ],
   "metadata": {
    "ExecuteTime": {
     "end_time": "2019-07-21T06:53:26.542324Z",
     "start_time": "2019-07-21T06:53:26.531657Z"
    }
   }
  },
  {
   "cell_type": "markdown",
   "source": [
    "## SD"
   ],
   "metadata": {}
  },
  {
   "cell_type": "code",
   "execution_count": 22,
   "source": [
    "def cal_sd(df_pair, colname):\r\n",
    "    x_test = df_pair['test_{}'.format(colname)]\r\n",
    "    x_ctr = df_pair['ctr_{}'.format(colname)]\r\n",
    "    sd = (np.mean(x_test) - np.mean(x_ctr)) / np.sqrt((np.var(x_test) + np.var(x_ctr)) / 2)\r\n",
    "    return abs(sd)"
   ],
   "outputs": [],
   "metadata": {
    "ExecuteTime": {
     "end_time": "2019-07-21T07:02:28.022671Z",
     "start_time": "2019-07-21T07:02:28.012925Z"
    }
   }
  },
  {
   "cell_type": "code",
   "execution_count": 23,
   "source": [
    "for colname in ['TVwatch_day', 'inc', 'pmoney']:\r\n",
    "    sd = cal_sd(df_pair, colname)\r\n",
    "    print('SD_of_{}_is:{}'.format(colname, sd))"
   ],
   "outputs": [
    {
     "output_type": "stream",
     "name": "stdout",
     "text": [
      "SD_of_TVwatch_day_is:0.06052766574413203\n",
      "SD_of_inc_is:0.043452890050784336\n",
      "SD_of_pmoney_is:0.01078014254509848\n"
     ]
    }
   ],
   "metadata": {
    "ExecuteTime": {
     "end_time": "2019-07-21T07:04:40.189508Z",
     "start_time": "2019-07-21T07:04:40.174926Z"
    }
   }
  },
  {
   "cell_type": "markdown",
   "source": [
    "# IPW"
   ],
   "metadata": {}
  },
  {
   "cell_type": "code",
   "execution_count": 24,
   "source": [
    "Y = df['gamesecond']\r\n",
    "Z = df['cm_dummy']\r\n",
    "\r\n",
    "PS = df['pred_lr']\r\n",
    "\r\n",
    "IPW1 = sum(Z * Y / PS) / sum(Z / PS)\r\n",
    "IPW0 = sum(((1 - Z) * Y) / (1 - PS)) / sum((1 - Z) / (1 - PS))\r\n",
    "effect = IPW1 - IPW0\r\n",
    "print('IPW_effect:{}'.format(effect))"
   ],
   "outputs": [
    {
     "output_type": "stream",
     "name": "stdout",
     "text": [
      "IPW_effect:434.92382609076685\n"
     ]
    }
   ],
   "metadata": {
    "ExecuteTime": {
     "end_time": "2019-07-15T11:32:57.879521Z",
     "start_time": "2019-07-15T11:32:57.871237Z"
    }
   }
  },
  {
   "cell_type": "code",
   "execution_count": 26,
   "source": [
    "df_tmp = df[(df['pred_lgb'] < 0.99) & (df['pred_lgb'] > 0.01)]\r\n",
    "Y = df_tmp['gamesecond']\r\n",
    "Z = df_tmp['cm_dummy']\r\n",
    "\r\n",
    "PS = df_tmp['pred_lgb']\r\n",
    "\r\n",
    "IPW1 = sum(Z * Y / PS) / sum(Z / PS)\r\n",
    "IPW0 = sum(((1 - Z) * Y) / (1 - PS)) / sum((1 - Z) / (1 - PS))\r\n",
    "effect = IPW1 - IPW0\r\n",
    "print('IPW_effect:{}'.format(effect))"
   ],
   "outputs": [
    {
     "output_type": "stream",
     "name": "stdout",
     "text": [
      "IPW_effect:0.0\n"
     ]
    }
   ],
   "metadata": {
    "ExecuteTime": {
     "end_time": "2019-07-15T11:32:58.706911Z",
     "start_time": "2019-07-15T11:32:58.698698Z"
    }
   }
  },
  {
   "cell_type": "markdown",
   "source": [
    "# 回帰分析"
   ],
   "metadata": {}
  },
  {
   "cell_type": "code",
   "execution_count": 27,
   "source": [
    "y_col = 'gamesecond'\r\n",
    "z_col = 'cm_dummy'\r\n",
    "x_cols = [\r\n",
    "    col for col in df.columns if col not in [\r\n",
    "        'gamecount', 'gamecount', 'gamesecond', 'cm_dummy',\r\n",
    "        'pred_lgb', 'pred_lr', 'pred_rf',\r\n",
    "        'z0_reg_pred_lgb', 'z1_reg_pred_lgb',\r\n",
    "        'z0_reg_pred_rf', 'z1_reg_pred_rf',\r\n",
    "        'z0_reg_pred_rg', 'z1_reg_pred_rg'\r\n",
    "    ]\r\n",
    "]\r\n",
    "df_x_all = df[x_cols]\r\n",
    "df_y_all = df[y_col]\r\n",
    "df_x_all.shape, df_y_all.shape"
   ],
   "outputs": [
    {
     "output_type": "execute_result",
     "data": {
      "text/plain": [
       "((10000, 32), (10000,))"
      ]
     },
     "metadata": {},
     "execution_count": 27
    }
   ],
   "metadata": {
    "ExecuteTime": {
     "end_time": "2019-07-27T08:43:16.227696Z",
     "start_time": "2019-07-27T08:43:16.214637Z"
    }
   }
  },
  {
   "cell_type": "code",
   "execution_count": 28,
   "source": [
    "reg_preds_lgb = np.zeros(df.shape[0])\r\n",
    "reg_preds_rf = np.zeros(df.shape[0])\r\n",
    "reg_preds_rg = np.zeros(df.shape[0])\r\n",
    "\r\n",
    "for z in [0, 1]:\r\n",
    "    print('z={}'.format(z))\r\n",
    "    df_tmp = df.loc[df[z_col] == z]\r\n",
    "    df_x = df_tmp[x_cols]\r\n",
    "    df_y = df_tmp[y_col]\r\n",
    "    print(df_x.shape, df_y.shape)\r\n",
    "\r\n",
    "    oof_preds_lgb = np.zeros(df_tmp.shape[0])\r\n",
    "    oof_preds_rf = np.zeros(df_tmp.shape[0])\r\n",
    "    oof_preds_rg = np.zeros(df_tmp.shape[0])\r\n",
    "    insample_mse_list_lgb = []\r\n",
    "    insample_mse_list_rf = []\r\n",
    "    insample_mse_list_rg = []\r\n",
    "    feature_importance_df = pd.DataFrame()\r\n",
    "    n_splits = 5\r\n",
    "    kf = KFold(n_splits=n_splits, shuffle=True, random_state=0)\r\n",
    "    for n_fold, (train_index, valid_index) in enumerate(kf.split(df_x)):\r\n",
    "        print('CV_{}'.format(n_fold))\r\n",
    "        X_train, y_train = df_x.values[train_index], df_y.values[train_index]\r\n",
    "        X_valid, y_valid = df_x.values[valid_index], df_y.values[valid_index]\r\n",
    "        lgb_train = lgb.Dataset(X_train, label=y_train, free_raw_data=False)\r\n",
    "        lgb_test = lgb.Dataset(X_valid, label=y_valid, free_raw_data=False)\r\n",
    "\r\n",
    "        # LightGBM\r\n",
    "        print('LightGBM_fitting...')\r\n",
    "        params = {\r\n",
    "            'task': 'train',\r\n",
    "            'objective': 'regression',\r\n",
    "            'metric': 'mse',\r\n",
    "        }\r\n",
    "        model_lgb = lgb.train(\r\n",
    "            params,\r\n",
    "            lgb_train,\r\n",
    "            valid_sets=[lgb_train, lgb_test],\r\n",
    "            valid_names=['train', 'test'],\r\n",
    "            num_boost_round=100000,\r\n",
    "            early_stopping_rounds=1000,\r\n",
    "            verbose_eval=1000)\r\n",
    "\r\n",
    "        # RF\r\n",
    "        print('RandomForestRegressor_fitting...')\r\n",
    "        model_rf = RandomForestRegressor(n_estimators=500)\r\n",
    "        model_rf.fit(X_train, y_train)\r\n",
    "\r\n",
    "        # Ridge\r\n",
    "        print('Ridge_fitting...')\r\n",
    "        model_rg = Ridge()\r\n",
    "        model_rg.fit(X_train, y_train)\r\n",
    "\r\n",
    "        # pred_for_insample\r\n",
    "        pred_insample_lgb = model_lgb.predict( X_train, num_iteration=model_lgb.best_iteration)\r\n",
    "        pred_insample_rf = model_rf.predict(X_train)\r\n",
    "        pred_insample_rg = model_rg.predict(X_train)\r\n",
    "\r\n",
    "        insample_mse_lgb = (mean_squared_error(y_train, pred_insample_lgb))\r\n",
    "        insample_mse_rf = (mean_squared_error(y_train, pred_insample_rf))\r\n",
    "        insample_mse_rg = (mean_squared_error(y_train, pred_insample_rg))\r\n",
    "        print('insample_mse_of_LightGBM:{}'.format(insample_mse_lgb))\r\n",
    "        print('insample_mse_of_RandomForestRegressor:{}'.format(insample_mse_rf))\r\n",
    "        print('insample_mse_of_Ridge:{}'.format(insample_mse_rg))\r\n",
    "        insample_mse_list_lgb.append(insample_mse_lgb)\r\n",
    "        insample_mse_list_rf.append(insample_mse_rf)\r\n",
    "        insample_mse_list_rg.append(insample_mse_rg)\r\n",
    "\r\n",
    "        # pred_for_oof\r\n",
    "        oof_pred_lgb = model_lgb.predict(X_valid, num_iteration=model_lgb.best_iteration)\r\n",
    "        oof_pred_rf = model_rf.predict(X_valid)\r\n",
    "        oof_pred_rg = model_rg.predict(X_valid)\r\n",
    "    \r\n",
    "        oof_preds_lgb[valid_index] = oof_pred_lgb\r\n",
    "        oof_preds_rf[valid_index] = oof_pred_rf\r\n",
    "        oof_preds_rg[valid_index] = oof_pred_rg\r\n",
    "        \r\n",
    "        oof_mse_lgb = (mean_squared_error(y_valid, oof_pred_lgb))\r\n",
    "        oof_mse_rf = (mean_squared_error(y_valid, oof_pred_rf))\r\n",
    "        oof_mse_rg = (mean_squared_error(y_valid, oof_pred_rg))\r\n",
    "        print('oof_mse_of_LightGBM:{}'.format(oof_mse_lgb))\r\n",
    "        print('oof_mse_of_RandomForestRegressor:{}'.format(oof_mse_rf))\r\n",
    "        print('oof_mse_of_Ridge:{}'.format(oof_mse_rg))\r\n",
    "\r\n",
    "        #全データへの予測値\r\n",
    "        reg_preds_lgb += model_lgb.predict(df_x_all.values, num_iteration=model_lgb.best_iteration)\r\n",
    "        reg_preds_rf += model_rf.predict(df_x_all.values)\r\n",
    "        reg_preds_rg += model_rg.predict(df_x_all.values)\r\n",
    "\r\n",
    "        # 重要度の算出\r\n",
    "        fold_importance_df = pd.DataFrame()\r\n",
    "        fold_importance_df[\"feature\"] = x_cols\r\n",
    "        fold_importance_df[\"importance\"] = np.log1p(\r\n",
    "            model_lgb.feature_importance(\r\n",
    "                importance_type='gain', iteration=model_lgb.best_iteration))\r\n",
    "        fold_importance_df[\"fold\"] = n_fold + 1\r\n",
    "        feature_importance_df = pd.concat(\r\n",
    "            [feature_importance_df, fold_importance_df], axis=0)\r\n",
    "\r\n",
    "    print('z={}_all_CV_done'.format(z))\r\n",
    "    print('CV_insample_mse_of_LightGBM:{}'.format(np.mean(insample_mse_list_lgb)))\r\n",
    "    print('CV_insample_mse_of_RandomForestRegressor:{}'.format(np.mean(insample_mse_list_rf)))\r\n",
    "    print('CV_insample_mse_of_Ridge:{}'.format(np.mean(insample_mse_list_rg)))\r\n",
    "    \r\n",
    "    print('CV_oof_mse_of_LightGBM:{}'.format(mean_squared_error(df_y, oof_preds_lgb)))\r\n",
    "    print('CV_oof_mse_of_RandomForestRegressor:{}'.format(mean_squared_error(df_y, oof_preds_rf)))\r\n",
    "    print('CV_oof_mse_of_Ridge:{}'.format(mean_squared_error(df_y, oof_preds_rg)))\r\n",
    "    #予測値をdfに追加\r\n",
    "    df['z{}_reg_pred_lgb'.format(z)] = reg_preds_lgb / n_splits\r\n",
    "    df['z{}_reg_pred_rf'.format(z)] = reg_preds_rf / n_splits\r\n",
    "    df['z{}_reg_pred_rg'.format(z)] = reg_preds_rg / n_splits"
   ],
   "outputs": [
    {
     "output_type": "stream",
     "name": "stdout",
     "text": [
      "z=0\n",
      "(5856, 32) (5856,)\n",
      "CV_0\n",
      "LightGBM_fitting...\n",
      "[LightGBM] [Warning] Auto-choosing row-wise multi-threading, the overhead of testing was 0.000100 seconds.\n",
      "You can set `force_row_wise=true` to remove the overhead.\n",
      "And if memory is not enough, you can set `force_col_wise=true`.\n",
      "[LightGBM] [Info] Total Bins 338\n",
      "[LightGBM] [Info] Number of data points in the train set: 4684, number of used features: 32\n",
      "[LightGBM] [Info] Start training from score 3057.006832\n",
      "[LightGBM] [Warning] No further splits with positive gain, best gain: -inf\n",
      "Training until validation scores don't improve for 1000 rounds\n",
      "[LightGBM] [Warning] No further splits with positive gain, best gain: -inf\n",
      "[LightGBM] [Warning] No further splits with positive gain, best gain: -inf\n",
      "[LightGBM] [Warning] No further splits with positive gain, best gain: -inf\n",
      "[LightGBM] [Warning] No further splits with positive gain, best gain: -inf\n",
      "[LightGBM] [Warning] No further splits with positive gain, best gain: -inf\n",
      "[LightGBM] [Warning] No further splits with positive gain, best gain: -inf\n",
      "[LightGBM] [Warning] No further splits with positive gain, best gain: -inf\n",
      "[LightGBM] [Warning] No further splits with positive gain, best gain: -inf\n",
      "[LightGBM] [Warning] No further splits with positive gain, best gain: -inf\n",
      "[LightGBM] [Warning] No further splits with positive gain, best gain: -inf\n",
      "[LightGBM] [Warning] No further splits with positive gain, best gain: -inf\n",
      "[LightGBM] [Warning] No further splits with positive gain, best gain: -inf\n",
      "[LightGBM] [Warning] No further splits with positive gain, best gain: -inf\n",
      "[LightGBM] [Warning] No further splits with positive gain, best gain: -inf\n",
      "[LightGBM] [Warning] No further splits with positive gain, best gain: -inf\n",
      "[LightGBM] [Warning] No further splits with positive gain, best gain: -inf\n",
      "[LightGBM] [Warning] No further splits with positive gain, best gain: -inf\n",
      "[LightGBM] [Warning] No further splits with positive gain, best gain: -inf\n",
      "[LightGBM] [Warning] No further splits with positive gain, best gain: -inf\n",
      "[LightGBM] [Warning] No further splits with positive gain, best gain: -inf\n",
      "[LightGBM] [Warning] No further splits with positive gain, best gain: -inf\n",
      "[LightGBM] [Warning] No further splits with positive gain, best gain: -inf\n",
      "[LightGBM] [Warning] No further splits with positive gain, best gain: -inf\n",
      "[LightGBM] [Warning] No further splits with positive gain, best gain: -inf\n",
      "[LightGBM] [Warning] No further splits with positive gain, best gain: -inf\n",
      "[LightGBM] [Warning] No further splits with positive gain, best gain: -inf\n",
      "[LightGBM] [Warning] No further splits with positive gain, best gain: -inf\n",
      "[LightGBM] [Warning] No further splits with positive gain, best gain: -inf\n",
      "[LightGBM] [Warning] No further splits with positive gain, best gain: -inf\n",
      "[LightGBM] [Warning] No further splits with positive gain, best gain: -inf\n",
      "[1000]\ttrain's l2: 6186.76\ttest's l2: 938589\n",
      "[2000]\ttrain's l2: 398.246\ttest's l2: 909723\n",
      "[3000]\ttrain's l2: 49.0891\ttest's l2: 906203\n",
      "[4000]\ttrain's l2: 7.97065\ttest's l2: 905066\n",
      "[5000]\ttrain's l2: 1.84207\ttest's l2: 904989\n",
      "[6000]\ttrain's l2: 0.486249\ttest's l2: 904921\n",
      "Early stopping, best iteration is:\n",
      "[5768]\ttrain's l2: 0.647949\ttest's l2: 904914\n",
      "RandomForestRegressor_fitting...\n",
      "Ridge_fitting...\n",
      "insample_mse_of_LightGBM:0.6479487271598162\n",
      "insample_mse_of_RandomForestRegressor:154376.04591080276\n",
      "insample_mse_of_Ridge:255065463.72443095\n",
      "oof_mse_of_LightGBM:904914.1824162503\n",
      "oof_mse_of_RandomForestRegressor:718816.1038436689\n",
      "oof_mse_of_Ridge:248102032.81731176\n",
      "CV_1\n",
      "LightGBM_fitting...\n",
      "[LightGBM] [Warning] Auto-choosing row-wise multi-threading, the overhead of testing was 0.000093 seconds.\n",
      "You can set `force_row_wise=true` to remove the overhead.\n",
      "And if memory is not enough, you can set `force_col_wise=true`.\n",
      "[LightGBM] [Info] Total Bins 338\n",
      "[LightGBM] [Info] Number of data points in the train set: 4685, number of used features: 32\n",
      "[LightGBM] [Info] Start training from score 3208.175027\n",
      "[LightGBM] [Warning] No further splits with positive gain, best gain: -inf\n",
      "Training until validation scores don't improve for 1000 rounds\n",
      "[LightGBM] [Warning] No further splits with positive gain, best gain: -inf\n",
      "[LightGBM] [Warning] No further splits with positive gain, best gain: -inf\n",
      "[LightGBM] [Warning] No further splits with positive gain, best gain: -inf\n",
      "[LightGBM] [Warning] No further splits with positive gain, best gain: -inf\n",
      "[LightGBM] [Warning] No further splits with positive gain, best gain: -inf\n",
      "[LightGBM] [Warning] No further splits with positive gain, best gain: -inf\n",
      "[LightGBM] [Warning] No further splits with positive gain, best gain: -inf\n",
      "[LightGBM] [Warning] No further splits with positive gain, best gain: -inf\n",
      "[LightGBM] [Warning] No further splits with positive gain, best gain: -inf\n",
      "[LightGBM] [Warning] No further splits with positive gain, best gain: -inf\n",
      "[LightGBM] [Warning] No further splits with positive gain, best gain: -inf\n",
      "[LightGBM] [Warning] No further splits with positive gain, best gain: -inf\n",
      "[LightGBM] [Warning] No further splits with positive gain, best gain: -inf\n",
      "[LightGBM] [Warning] No further splits with positive gain, best gain: -inf\n",
      "[LightGBM] [Warning] No further splits with positive gain, best gain: -inf\n",
      "[LightGBM] [Warning] No further splits with positive gain, best gain: -inf\n",
      "[LightGBM] [Warning] No further splits with positive gain, best gain: -inf\n",
      "[LightGBM] [Warning] No further splits with positive gain, best gain: -inf\n",
      "[LightGBM] [Warning] No further splits with positive gain, best gain: -inf\n",
      "[LightGBM] [Warning] No further splits with positive gain, best gain: -inf\n",
      "[LightGBM] [Warning] No further splits with positive gain, best gain: -inf\n",
      "[LightGBM] [Warning] No further splits with positive gain, best gain: -inf\n",
      "[LightGBM] [Warning] No further splits with positive gain, best gain: -inf\n",
      "[LightGBM] [Warning] No further splits with positive gain, best gain: -inf\n",
      "[LightGBM] [Warning] No further splits with positive gain, best gain: -inf\n",
      "[LightGBM] [Warning] No further splits with positive gain, best gain: -inf\n",
      "[LightGBM] [Warning] No further splits with positive gain, best gain: -inf\n",
      "[LightGBM] [Warning] No further splits with positive gain, best gain: -inf\n",
      "[LightGBM] [Warning] No further splits with positive gain, best gain: -inf\n",
      "[LightGBM] [Warning] No further splits with positive gain, best gain: -inf\n",
      "[LightGBM] [Warning] No further splits with positive gain, best gain: -inf\n",
      "[LightGBM] [Warning] No further splits with positive gain, best gain: -inf\n",
      "[LightGBM] [Warning] No further splits with positive gain, best gain: -inf\n",
      "[LightGBM] [Warning] No further splits with positive gain, best gain: -inf\n",
      "[LightGBM] [Warning] No further splits with positive gain, best gain: -inf\n",
      "[LightGBM] [Warning] No further splits with positive gain, best gain: -inf\n",
      "[LightGBM] [Warning] No further splits with positive gain, best gain: -inf\n",
      "[1000]\ttrain's l2: 4493.72\ttest's l2: 326865\n",
      "[2000]\ttrain's l2: 333.268\ttest's l2: 319933\n",
      "[3000]\ttrain's l2: 47.5765\ttest's l2: 319433\n",
      "[4000]\ttrain's l2: 10.4841\ttest's l2: 319323\n",
      "[5000]\ttrain's l2: 2.63661\ttest's l2: 319268\n",
      "[6000]\ttrain's l2: 0.832344\ttest's l2: 319246\n",
      "[7000]\ttrain's l2: 0.324624\ttest's l2: 319235\n",
      "[8000]\ttrain's l2: 0.148461\ttest's l2: 319228\n",
      "[9000]\ttrain's l2: 0.0940447\ttest's l2: 319225\n",
      "[10000]\ttrain's l2: 0.07563\ttest's l2: 319223\n",
      "[11000]\ttrain's l2: 0.0690924\ttest's l2: 319222\n",
      "[12000]\ttrain's l2: 0.0666111\ttest's l2: 319221\n",
      "[13000]\ttrain's l2: 0.065608\ttest's l2: 319221\n",
      "[14000]\ttrain's l2: 0.065206\ttest's l2: 319221\n",
      "Early stopping, best iteration is:\n",
      "[13927]\ttrain's l2: 0.0652255\ttest's l2: 319221\n",
      "RandomForestRegressor_fitting...\n",
      "Ridge_fitting...\n",
      "insample_mse_of_LightGBM:0.06522546749743074\n",
      "insample_mse_of_RandomForestRegressor:204978.9087607496\n",
      "insample_mse_of_Ridge:282537859.0420297\n",
      "oof_mse_of_LightGBM:319221.1089440266\n",
      "oof_mse_of_RandomForestRegressor:4669567.626674808\n",
      "oof_mse_of_Ridge:137778118.08206606\n",
      "CV_2\n",
      "LightGBM_fitting...\n",
      "[LightGBM] [Warning] Auto-choosing row-wise multi-threading, the overhead of testing was 0.000076 seconds.\n",
      "You can set `force_row_wise=true` to remove the overhead.\n",
      "And if memory is not enough, you can set `force_col_wise=true`.\n",
      "[LightGBM] [Info] Total Bins 338\n",
      "[LightGBM] [Info] Number of data points in the train set: 4685, number of used features: 32\n",
      "[LightGBM] [Info] Start training from score 2973.826467\n",
      "[LightGBM] [Warning] No further splits with positive gain, best gain: -inf\n",
      "Training until validation scores don't improve for 1000 rounds\n",
      "[LightGBM] [Warning] No further splits with positive gain, best gain: -inf\n",
      "[LightGBM] [Warning] No further splits with positive gain, best gain: -inf\n",
      "[LightGBM] [Warning] No further splits with positive gain, best gain: -inf\n",
      "[LightGBM] [Warning] No further splits with positive gain, best gain: -inf\n",
      "[LightGBM] [Warning] No further splits with positive gain, best gain: -inf\n",
      "[LightGBM] [Warning] No further splits with positive gain, best gain: -inf\n",
      "[LightGBM] [Warning] No further splits with positive gain, best gain: -inf\n",
      "[LightGBM] [Warning] No further splits with positive gain, best gain: -inf\n",
      "[LightGBM] [Warning] No further splits with positive gain, best gain: -inf\n",
      "[LightGBM] [Warning] No further splits with positive gain, best gain: -inf\n",
      "[LightGBM] [Warning] No further splits with positive gain, best gain: -inf\n",
      "[LightGBM] [Warning] No further splits with positive gain, best gain: -inf\n",
      "[LightGBM] [Warning] No further splits with positive gain, best gain: -inf\n",
      "[LightGBM] [Warning] No further splits with positive gain, best gain: -inf\n",
      "[LightGBM] [Warning] No further splits with positive gain, best gain: -inf\n",
      "[LightGBM] [Warning] No further splits with positive gain, best gain: -inf\n",
      "[LightGBM] [Warning] No further splits with positive gain, best gain: -inf\n",
      "[LightGBM] [Warning] No further splits with positive gain, best gain: -inf\n",
      "[LightGBM] [Warning] No further splits with positive gain, best gain: -inf\n",
      "[LightGBM] [Warning] No further splits with positive gain, best gain: -inf\n",
      "[LightGBM] [Warning] No further splits with positive gain, best gain: -inf\n",
      "[LightGBM] [Warning] No further splits with positive gain, best gain: -inf\n",
      "[LightGBM] [Warning] No further splits with positive gain, best gain: -inf\n",
      "[LightGBM] [Warning] No further splits with positive gain, best gain: -inf\n",
      "[LightGBM] [Warning] No further splits with positive gain, best gain: -inf\n",
      "[LightGBM] [Warning] No further splits with positive gain, best gain: -inf\n",
      "[LightGBM] [Warning] No further splits with positive gain, best gain: -inf\n",
      "[LightGBM] [Warning] No further splits with positive gain, best gain: -inf\n",
      "[LightGBM] [Warning] No further splits with positive gain, best gain: -inf\n",
      "[LightGBM] [Warning] No further splits with positive gain, best gain: -inf\n",
      "[LightGBM] [Warning] No further splits with positive gain, best gain: -inf\n",
      "[LightGBM] [Warning] No further splits with positive gain, best gain: -inf\n",
      "[LightGBM] [Warning] No further splits with positive gain, best gain: -inf\n",
      "[LightGBM] [Warning] No further splits with positive gain, best gain: -inf\n",
      "[LightGBM] [Warning] No further splits with positive gain, best gain: -inf\n",
      "[1000]\ttrain's l2: 920.985\ttest's l2: 2660.7\n",
      "[2000]\ttrain's l2: 52.9505\ttest's l2: 776.55\n",
      "[3000]\ttrain's l2: 8.52625\ttest's l2: 694.1\n",
      "[4000]\ttrain's l2: 1.96745\ttest's l2: 682.106\n",
      "[5000]\ttrain's l2: 0.517621\ttest's l2: 679.021\n",
      "[6000]\ttrain's l2: 0.184331\ttest's l2: 678.183\n",
      "[7000]\ttrain's l2: 0.0954405\ttest's l2: 678.064\n",
      "[8000]\ttrain's l2: 0.0701965\ttest's l2: 678.001\n",
      "[9000]\ttrain's l2: 0.0623863\ttest's l2: 677.97\n",
      "[10000]\ttrain's l2: 0.0598762\ttest's l2: 677.948\n",
      "[11000]\ttrain's l2: 0.0590652\ttest's l2: 677.942\n",
      "[12000]\ttrain's l2: 0.0588028\ttest's l2: 677.947\n",
      "Early stopping, best iteration is:\n",
      "[11044]\ttrain's l2: 0.0590456\ttest's l2: 677.94\n",
      "RandomForestRegressor_fitting...\n",
      "Ridge_fitting...\n",
      "insample_mse_of_LightGBM:0.05904557333575345\n",
      "insample_mse_of_RandomForestRegressor:276095.4280064938\n",
      "insample_mse_of_Ridge:203190099.27611274\n",
      "oof_mse_of_LightGBM:677.9396743350934\n",
      "oof_mse_of_RandomForestRegressor:1061230.6652255359\n",
      "oof_mse_of_Ridge:458096890.91741544\n",
      "CV_3\n",
      "LightGBM_fitting...\n",
      "[LightGBM] [Warning] Auto-choosing col-wise multi-threading, the overhead of testing was 0.000322 seconds.\n",
      "You can set `force_col_wise=true` to remove the overhead.\n",
      "[LightGBM] [Info] Total Bins 338\n",
      "[LightGBM] [Info] Number of data points in the train set: 4685, number of used features: 32\n",
      "[LightGBM] [Info] Start training from score 3238.306937\n",
      "[LightGBM] [Warning] No further splits with positive gain, best gain: -inf\n",
      "Training until validation scores don't improve for 1000 rounds\n",
      "[LightGBM] [Warning] No further splits with positive gain, best gain: -inf\n",
      "[LightGBM] [Warning] No further splits with positive gain, best gain: -inf\n",
      "[LightGBM] [Warning] No further splits with positive gain, best gain: -inf\n",
      "[LightGBM] [Warning] No further splits with positive gain, best gain: -inf\n",
      "[LightGBM] [Warning] No further splits with positive gain, best gain: -inf\n",
      "[LightGBM] [Warning] No further splits with positive gain, best gain: -inf\n",
      "[LightGBM] [Warning] No further splits with positive gain, best gain: -inf\n",
      "[LightGBM] [Warning] No further splits with positive gain, best gain: -inf\n",
      "[LightGBM] [Warning] No further splits with positive gain, best gain: -inf\n",
      "[LightGBM] [Warning] No further splits with positive gain, best gain: -inf\n",
      "[LightGBM] [Warning] No further splits with positive gain, best gain: -inf\n",
      "[LightGBM] [Warning] No further splits with positive gain, best gain: -inf\n",
      "[LightGBM] [Warning] No further splits with positive gain, best gain: -inf\n",
      "[LightGBM] [Warning] No further splits with positive gain, best gain: -inf\n",
      "[LightGBM] [Warning] No further splits with positive gain, best gain: -inf\n",
      "[LightGBM] [Warning] No further splits with positive gain, best gain: -inf\n",
      "[LightGBM] [Warning] No further splits with positive gain, best gain: -inf\n",
      "[LightGBM] [Warning] No further splits with positive gain, best gain: -inf\n",
      "[LightGBM] [Warning] No further splits with positive gain, best gain: -inf\n",
      "[LightGBM] [Warning] No further splits with positive gain, best gain: -inf\n",
      "[LightGBM] [Warning] No further splits with positive gain, best gain: -inf\n",
      "[LightGBM] [Warning] No further splits with positive gain, best gain: -inf\n",
      "[LightGBM] [Warning] No further splits with positive gain, best gain: -inf\n",
      "[LightGBM] [Warning] No further splits with positive gain, best gain: -inf\n",
      "[LightGBM] [Warning] No further splits with positive gain, best gain: -inf\n",
      "[LightGBM] [Warning] No further splits with positive gain, best gain: -inf\n",
      "[LightGBM] [Warning] No further splits with positive gain, best gain: -inf\n",
      "[LightGBM] [Warning] No further splits with positive gain, best gain: -inf\n",
      "[LightGBM] [Warning] No further splits with positive gain, best gain: -inf\n",
      "[LightGBM] [Warning] No further splits with positive gain, best gain: -inf\n",
      "[LightGBM] [Warning] No further splits with positive gain, best gain: -inf\n",
      "[LightGBM] [Warning] No further splits with positive gain, best gain: -inf\n",
      "[LightGBM] [Warning] No further splits with positive gain, best gain: -inf\n",
      "[LightGBM] [Warning] No further splits with positive gain, best gain: -inf\n",
      "[1000]\ttrain's l2: 699.102\ttest's l2: 4218.03\n",
      "[2000]\ttrain's l2: 37.0526\ttest's l2: 3480.99\n",
      "[3000]\ttrain's l2: 5.69194\ttest's l2: 3425.89\n",
      "[4000]\ttrain's l2: 1.19783\ttest's l2: 3418.15\n",
      "[5000]\ttrain's l2: 0.349834\ttest's l2: 3416.33\n",
      "[6000]\ttrain's l2: 0.139967\ttest's l2: 3415.42\n",
      "[7000]\ttrain's l2: 0.0822598\ttest's l2: 3415.43\n",
      "Early stopping, best iteration is:\n",
      "[6053]\ttrain's l2: 0.134422\ttest's l2: 3415.38\n",
      "RandomForestRegressor_fitting...\n",
      "Ridge_fitting...\n",
      "insample_mse_of_LightGBM:0.1344223000954396\n",
      "insample_mse_of_RandomForestRegressor:180435.6821212764\n",
      "insample_mse_of_Ridge:286917595.2392767\n",
      "oof_mse_of_LightGBM:3415.3822070300134\n",
      "oof_mse_of_RandomForestRegressor:112549.27880285564\n",
      "oof_mse_of_Ridge:122025502.95190625\n",
      "CV_4\n",
      "LightGBM_fitting...\n",
      "[LightGBM] [Warning] Auto-choosing row-wise multi-threading, the overhead of testing was 0.000086 seconds.\n",
      "You can set `force_row_wise=true` to remove the overhead.\n",
      "And if memory is not enough, you can set `force_col_wise=true`.\n",
      "[LightGBM] [Info] Total Bins 338\n",
      "[LightGBM] [Info] Number of data points in the train set: 4685, number of used features: 32\n",
      "[LightGBM] [Info] Start training from score 3061.206190\n",
      "[LightGBM] [Warning] No further splits with positive gain, best gain: -inf\n",
      "Training until validation scores don't improve for 1000 rounds\n",
      "[LightGBM] [Warning] No further splits with positive gain, best gain: -inf\n",
      "[LightGBM] [Warning] No further splits with positive gain, best gain: -inf\n",
      "[LightGBM] [Warning] No further splits with positive gain, best gain: -inf\n",
      "[LightGBM] [Warning] No further splits with positive gain, best gain: -inf\n",
      "[LightGBM] [Warning] No further splits with positive gain, best gain: -inf\n",
      "[LightGBM] [Warning] No further splits with positive gain, best gain: -inf\n",
      "[LightGBM] [Warning] No further splits with positive gain, best gain: -inf\n",
      "[LightGBM] [Warning] No further splits with positive gain, best gain: -inf\n",
      "[LightGBM] [Warning] No further splits with positive gain, best gain: -inf\n",
      "[LightGBM] [Warning] No further splits with positive gain, best gain: -inf\n",
      "[LightGBM] [Warning] No further splits with positive gain, best gain: -inf\n",
      "[LightGBM] [Warning] No further splits with positive gain, best gain: -inf\n",
      "[LightGBM] [Warning] No further splits with positive gain, best gain: -inf\n",
      "[LightGBM] [Warning] No further splits with positive gain, best gain: -inf\n",
      "[LightGBM] [Warning] No further splits with positive gain, best gain: -inf\n",
      "[LightGBM] [Warning] No further splits with positive gain, best gain: -inf\n",
      "[LightGBM] [Warning] No further splits with positive gain, best gain: -inf\n",
      "[LightGBM] [Warning] No further splits with positive gain, best gain: -inf\n",
      "[LightGBM] [Warning] No further splits with positive gain, best gain: -inf\n",
      "[LightGBM] [Warning] No further splits with positive gain, best gain: -inf\n",
      "[LightGBM] [Warning] No further splits with positive gain, best gain: -inf\n",
      "[LightGBM] [Warning] No further splits with positive gain, best gain: -inf\n",
      "[LightGBM] [Warning] No further splits with positive gain, best gain: -inf\n",
      "[LightGBM] [Warning] No further splits with positive gain, best gain: -inf\n",
      "[LightGBM] [Warning] No further splits with positive gain, best gain: -inf\n",
      "[LightGBM] [Warning] No further splits with positive gain, best gain: -inf\n",
      "[LightGBM] [Warning] No further splits with positive gain, best gain: -inf\n",
      "[LightGBM] [Warning] No further splits with positive gain, best gain: -inf\n",
      "[LightGBM] [Warning] No further splits with positive gain, best gain: -inf\n",
      "[LightGBM] [Warning] No further splits with positive gain, best gain: -inf\n",
      "[LightGBM] [Warning] No further splits with positive gain, best gain: -inf\n",
      "[1000]\ttrain's l2: 655.667\ttest's l2: 1420.19\n",
      "[2000]\ttrain's l2: 62.0047\ttest's l2: 299.031\n",
      "[3000]\ttrain's l2: 11.2093\ttest's l2: 238.428\n",
      "[4000]\ttrain's l2: 2.72131\ttest's l2: 227.626\n",
      "[5000]\ttrain's l2: 0.757151\ttest's l2: 225.585\n",
      "[6000]\ttrain's l2: 0.270713\ttest's l2: 225.952\n",
      "Early stopping, best iteration is:\n",
      "[5142]\ttrain's l2: 0.643966\ttest's l2: 225.542\n",
      "RandomForestRegressor_fitting...\n",
      "Ridge_fitting...\n",
      "insample_mse_of_LightGBM:0.643966378554741\n",
      "insample_mse_of_RandomForestRegressor:399849.2404263648\n",
      "insample_mse_of_Ridge:237589340.03699458\n",
      "oof_mse_of_LightGBM:225.54244268691778\n",
      "oof_mse_of_RandomForestRegressor:505562.55189903313\n",
      "oof_mse_of_Ridge:318105861.94558054\n",
      "z=0_all_CV_done\n",
      "CV_insample_mse_of_LightGBM:0.3101216893286362\n",
      "CV_insample_mse_of_RandomForestRegressor:243147.06104513747\n",
      "CV_insample_mse_of_Ridge:253060071.46376896\n",
      "CV_oof_mse_of_LightGBM:245803.4034304586\n",
      "CV_oof_mse_of_RandomForestRegressor:1413426.6098483598\n",
      "CV_oof_mse_of_Ridge:256820192.33183736\n",
      "z=1\n",
      "(4144, 32) (4144,)\n",
      "CV_0\n",
      "LightGBM_fitting...\n",
      "[LightGBM] [Warning] Auto-choosing row-wise multi-threading, the overhead of testing was 0.000060 seconds.\n",
      "You can set `force_row_wise=true` to remove the overhead.\n",
      "And if memory is not enough, you can set `force_col_wise=true`.\n",
      "[LightGBM] [Info] Total Bins 338\n",
      "[LightGBM] [Info] Number of data points in the train set: 3315, number of used features: 32\n",
      "[LightGBM] [Info] Start training from score 2236.434992\n",
      "[LightGBM] [Warning] No further splits with positive gain, best gain: -inf\n",
      "Training until validation scores don't improve for 1000 rounds\n",
      "[LightGBM] [Warning] No further splits with positive gain, best gain: -inf\n",
      "[LightGBM] [Warning] No further splits with positive gain, best gain: -inf\n",
      "[LightGBM] [Warning] No further splits with positive gain, best gain: -inf\n",
      "[LightGBM] [Warning] No further splits with positive gain, best gain: -inf\n",
      "[LightGBM] [Warning] No further splits with positive gain, best gain: -inf\n",
      "[LightGBM] [Warning] No further splits with positive gain, best gain: -inf\n",
      "[LightGBM] [Warning] No further splits with positive gain, best gain: -inf\n",
      "[LightGBM] [Warning] No further splits with positive gain, best gain: -inf\n",
      "[LightGBM] [Warning] No further splits with positive gain, best gain: -inf\n",
      "[LightGBM] [Warning] No further splits with positive gain, best gain: -inf\n",
      "[LightGBM] [Warning] No further splits with positive gain, best gain: -inf\n",
      "[LightGBM] [Warning] No further splits with positive gain, best gain: -inf\n",
      "[LightGBM] [Warning] No further splits with positive gain, best gain: -inf\n",
      "[LightGBM] [Warning] No further splits with positive gain, best gain: -inf\n",
      "[LightGBM] [Warning] No further splits with positive gain, best gain: -inf\n",
      "[LightGBM] [Warning] No further splits with positive gain, best gain: -inf\n",
      "[LightGBM] [Warning] No further splits with positive gain, best gain: -inf\n",
      "[LightGBM] [Warning] No further splits with positive gain, best gain: -inf\n",
      "[LightGBM] [Warning] No further splits with positive gain, best gain: -inf\n",
      "[LightGBM] [Warning] No further splits with positive gain, best gain: -inf\n",
      "[LightGBM] [Warning] No further splits with positive gain, best gain: -inf\n",
      "[LightGBM] [Warning] No further splits with positive gain, best gain: -inf\n",
      "[LightGBM] [Warning] No further splits with positive gain, best gain: -inf\n",
      "[LightGBM] [Warning] No further splits with positive gain, best gain: -inf\n",
      "[LightGBM] [Warning] No further splits with positive gain, best gain: -inf\n",
      "[LightGBM] [Warning] No further splits with positive gain, best gain: -inf\n",
      "[1000]\ttrain's l2: 1474.09\ttest's l2: 2370.04\n",
      "[2000]\ttrain's l2: 85.178\ttest's l2: 139.711\n",
      "[3000]\ttrain's l2: 7.33869\ttest's l2: 12.6233\n",
      "[4000]\ttrain's l2: 1.0687\ttest's l2: 5.07242\n",
      "[5000]\ttrain's l2: 0.26809\ttest's l2: 4.35405\n",
      "[6000]\ttrain's l2: 0.10588\ttest's l2: 4.28089\n",
      "[7000]\ttrain's l2: 0.0650864\ttest's l2: 4.2808\n",
      "Early stopping, best iteration is:\n",
      "[6721]\ttrain's l2: 0.0713307\ttest's l2: 4.27678\n",
      "RandomForestRegressor_fitting...\n",
      "Ridge_fitting...\n",
      "insample_mse_of_LightGBM:0.07133071754994487\n",
      "insample_mse_of_RandomForestRegressor:58122.9745139306\n",
      "insample_mse_of_Ridge:153311639.8734369\n",
      "oof_mse_of_LightGBM:4.276775664086692\n",
      "oof_mse_of_RandomForestRegressor:373266.4903728589\n",
      "oof_mse_of_Ridge:168632290.16504157\n",
      "CV_1\n",
      "LightGBM_fitting...\n",
      "[LightGBM] [Warning] Auto-choosing row-wise multi-threading, the overhead of testing was 0.000291 seconds.\n",
      "You can set `force_row_wise=true` to remove the overhead.\n",
      "And if memory is not enough, you can set `force_col_wise=true`.\n",
      "[LightGBM] [Info] Total Bins 338\n",
      "[LightGBM] [Info] Number of data points in the train set: 3315, number of used features: 32\n",
      "[LightGBM] [Info] Start training from score 2620.026546\n",
      "[LightGBM] [Warning] No further splits with positive gain, best gain: -inf\n",
      "Training until validation scores don't improve for 1000 rounds\n",
      "[LightGBM] [Warning] No further splits with positive gain, best gain: -inf\n",
      "[LightGBM] [Warning] No further splits with positive gain, best gain: -inf\n",
      "[LightGBM] [Warning] No further splits with positive gain, best gain: -inf\n",
      "[LightGBM] [Warning] No further splits with positive gain, best gain: -inf\n",
      "[LightGBM] [Warning] No further splits with positive gain, best gain: -inf\n",
      "[LightGBM] [Warning] No further splits with positive gain, best gain: -inf\n",
      "[LightGBM] [Warning] No further splits with positive gain, best gain: -inf\n",
      "[LightGBM] [Warning] No further splits with positive gain, best gain: -inf\n",
      "[LightGBM] [Warning] No further splits with positive gain, best gain: -inf\n",
      "[LightGBM] [Warning] No further splits with positive gain, best gain: -inf\n",
      "[LightGBM] [Warning] No further splits with positive gain, best gain: -inf\n",
      "[LightGBM] [Warning] No further splits with positive gain, best gain: -inf\n",
      "[LightGBM] [Warning] No further splits with positive gain, best gain: -inf\n",
      "[LightGBM] [Warning] No further splits with positive gain, best gain: -inf\n",
      "[LightGBM] [Warning] No further splits with positive gain, best gain: -inf\n",
      "[LightGBM] [Warning] No further splits with positive gain, best gain: -inf\n",
      "[LightGBM] [Warning] No further splits with positive gain, best gain: -inf\n",
      "[LightGBM] [Warning] No further splits with positive gain, best gain: -inf\n",
      "[LightGBM] [Warning] No further splits with positive gain, best gain: -inf\n",
      "[LightGBM] [Warning] No further splits with positive gain, best gain: -inf\n",
      "[LightGBM] [Warning] No further splits with positive gain, best gain: -inf\n",
      "[LightGBM] [Warning] No further splits with positive gain, best gain: -inf\n",
      "[LightGBM] [Warning] No further splits with positive gain, best gain: -inf\n",
      "[LightGBM] [Warning] No further splits with positive gain, best gain: -inf\n",
      "[LightGBM] [Warning] No further splits with positive gain, best gain: -inf\n",
      "[LightGBM] [Warning] No further splits with positive gain, best gain: -inf\n",
      "[LightGBM] [Warning] No further splits with positive gain, best gain: -inf\n",
      "[LightGBM] [Warning] No further splits with positive gain, best gain: -inf\n",
      "[LightGBM] [Warning] No further splits with positive gain, best gain: -inf\n",
      "[LightGBM] [Warning] No further splits with positive gain, best gain: -inf\n",
      "[LightGBM] [Warning] No further splits with positive gain, best gain: -inf\n",
      "[LightGBM] [Warning] No further splits with positive gain, best gain: -inf\n",
      "[LightGBM] [Warning] No further splits with positive gain, best gain: -inf\n",
      "[LightGBM] [Warning] No further splits with positive gain, best gain: -inf\n",
      "[LightGBM] [Warning] No further splits with positive gain, best gain: -inf\n",
      "[LightGBM] [Warning] No further splits with positive gain, best gain: -inf\n",
      "[LightGBM] [Warning] No further splits with positive gain, best gain: -inf\n",
      "[LightGBM] [Warning] No further splits with positive gain, best gain: -inf\n",
      "[LightGBM] [Warning] No further splits with positive gain, best gain: -inf\n",
      "[1000]\ttrain's l2: 982.833\ttest's l2: 190.013\n",
      "[2000]\ttrain's l2: 93.1607\ttest's l2: 18.8864\n",
      "[3000]\ttrain's l2: 11.153\ttest's l2: 2.93187\n",
      "[4000]\ttrain's l2: 1.60854\ttest's l2: 0.724878\n",
      "[5000]\ttrain's l2: 0.316604\ttest's l2: 0.300244\n",
      "[6000]\ttrain's l2: 0.114664\ttest's l2: 0.187935\n",
      "[7000]\ttrain's l2: 0.0711093\ttest's l2: 0.155173\n",
      "[8000]\ttrain's l2: 0.0605535\ttest's l2: 0.147222\n",
      "[9000]\ttrain's l2: 0.057716\ttest's l2: 0.144498\n",
      "[10000]\ttrain's l2: 0.0569124\ttest's l2: 0.143724\n",
      "[11000]\ttrain's l2: 0.056684\ttest's l2: 0.143533\n",
      "[12000]\ttrain's l2: 0.056614\ttest's l2: 0.143468\n",
      "[13000]\ttrain's l2: 0.0565919\ttest's l2: 0.14345\n",
      "[14000]\ttrain's l2: 0.0565845\ttest's l2: 0.143445\n",
      "Early stopping, best iteration is:\n",
      "[13530]\ttrain's l2: 0.0565869\ttest's l2: 0.143438\n",
      "RandomForestRegressor_fitting...\n",
      "Ridge_fitting...\n",
      "insample_mse_of_LightGBM:0.05658688732106555\n",
      "insample_mse_of_RandomForestRegressor:17957.446752348722\n",
      "insample_mse_of_Ridge:167807986.55842584\n",
      "oof_mse_of_LightGBM:0.14343771549483597\n",
      "oof_mse_of_RandomForestRegressor:52326.447499724956\n",
      "oof_mse_of_Ridge:108894427.0788204\n",
      "CV_2\n",
      "LightGBM_fitting...\n",
      "[LightGBM] [Warning] Auto-choosing col-wise multi-threading, the overhead of testing was 0.000288 seconds.\n",
      "You can set `force_col_wise=true` to remove the overhead.\n",
      "[LightGBM] [Info] Total Bins 338\n",
      "[LightGBM] [Info] Number of data points in the train set: 3315, number of used features: 32\n",
      "[LightGBM] [Info] Start training from score 2488.569834\n",
      "[LightGBM] [Warning] No further splits with positive gain, best gain: -inf\n",
      "Training until validation scores don't improve for 1000 rounds\n",
      "[LightGBM] [Warning] No further splits with positive gain, best gain: -inf\n",
      "[LightGBM] [Warning] No further splits with positive gain, best gain: -inf\n",
      "[LightGBM] [Warning] No further splits with positive gain, best gain: -inf\n",
      "[LightGBM] [Warning] No further splits with positive gain, best gain: -inf\n",
      "[LightGBM] [Warning] No further splits with positive gain, best gain: -inf\n",
      "[LightGBM] [Warning] No further splits with positive gain, best gain: -inf\n",
      "[LightGBM] [Warning] No further splits with positive gain, best gain: -inf\n",
      "[LightGBM] [Warning] No further splits with positive gain, best gain: -inf\n",
      "[LightGBM] [Warning] No further splits with positive gain, best gain: -inf\n",
      "[LightGBM] [Warning] No further splits with positive gain, best gain: -inf\n",
      "[LightGBM] [Warning] No further splits with positive gain, best gain: -inf\n",
      "[LightGBM] [Warning] No further splits with positive gain, best gain: -inf\n",
      "[LightGBM] [Warning] No further splits with positive gain, best gain: -inf\n",
      "[LightGBM] [Warning] No further splits with positive gain, best gain: -inf\n",
      "[LightGBM] [Warning] No further splits with positive gain, best gain: -inf\n",
      "[LightGBM] [Warning] No further splits with positive gain, best gain: -inf\n",
      "[LightGBM] [Warning] No further splits with positive gain, best gain: -inf\n",
      "[LightGBM] [Warning] No further splits with positive gain, best gain: -inf\n",
      "[LightGBM] [Warning] No further splits with positive gain, best gain: -inf\n",
      "[LightGBM] [Warning] No further splits with positive gain, best gain: -inf\n",
      "[LightGBM] [Warning] No further splits with positive gain, best gain: -inf\n",
      "[LightGBM] [Warning] No further splits with positive gain, best gain: -inf\n",
      "[LightGBM] [Warning] No further splits with positive gain, best gain: -inf\n",
      "[LightGBM] [Warning] No further splits with positive gain, best gain: -inf\n",
      "[LightGBM] [Warning] No further splits with positive gain, best gain: -inf\n",
      "[LightGBM] [Warning] No further splits with positive gain, best gain: -inf\n",
      "[LightGBM] [Warning] No further splits with positive gain, best gain: -inf\n",
      "[LightGBM] [Warning] No further splits with positive gain, best gain: -inf\n",
      "[LightGBM] [Warning] No further splits with positive gain, best gain: -inf\n",
      "[LightGBM] [Warning] No further splits with positive gain, best gain: -inf\n",
      "[LightGBM] [Warning] No further splits with positive gain, best gain: -inf\n",
      "[LightGBM] [Warning] No further splits with positive gain, best gain: -inf\n",
      "[LightGBM] [Warning] No further splits with positive gain, best gain: -inf\n",
      "[LightGBM] [Warning] No further splits with positive gain, best gain: -inf\n",
      "[LightGBM] [Warning] No further splits with positive gain, best gain: -inf\n",
      "[LightGBM] [Warning] No further splits with positive gain, best gain: -inf\n",
      "[LightGBM] [Warning] No further splits with positive gain, best gain: -inf\n",
      "[LightGBM] [Warning] No further splits with positive gain, best gain: -inf\n",
      "[LightGBM] [Warning] No further splits with positive gain, best gain: -inf\n",
      "[LightGBM] [Warning] No further splits with positive gain, best gain: -inf\n",
      "[LightGBM] [Warning] No further splits with positive gain, best gain: -inf\n",
      "[LightGBM] [Warning] No further splits with positive gain, best gain: -inf\n",
      "[LightGBM] [Warning] No further splits with positive gain, best gain: -inf\n",
      "[LightGBM] [Warning] No further splits with positive gain, best gain: -inf\n",
      "[LightGBM] [Warning] No further splits with positive gain, best gain: -inf\n",
      "[LightGBM] [Warning] No further splits with positive gain, best gain: -inf\n",
      "[LightGBM] [Warning] No further splits with positive gain, best gain: -inf\n",
      "[LightGBM] [Warning] No further splits with positive gain, best gain: -inf\n",
      "[LightGBM] [Warning] No further splits with positive gain, best gain: -inf\n",
      "[LightGBM] [Warning] No further splits with positive gain, best gain: -inf\n",
      "[LightGBM] [Warning] No further splits with positive gain, best gain: -inf\n",
      "[LightGBM] [Warning] No further splits with positive gain, best gain: -inf\n",
      "[1000]\ttrain's l2: 179.136\ttest's l2: 115.06\n",
      "[2000]\ttrain's l2: 4.69446\ttest's l2: 37.1161\n",
      "[3000]\ttrain's l2: 0.254916\ttest's l2: 33.0709\n",
      "[4000]\ttrain's l2: 0.0862231\ttest's l2: 32.5736\n",
      "[5000]\ttrain's l2: 0.0682684\ttest's l2: 32.5101\n",
      "[6000]\ttrain's l2: 0.0652546\ttest's l2: 32.4897\n",
      "[7000]\ttrain's l2: 0.064651\ttest's l2: 32.4851\n",
      "[8000]\ttrain's l2: 0.0645086\ttest's l2: 32.4841\n",
      "[9000]\ttrain's l2: 0.0644715\ttest's l2: 32.4834\n",
      "[10000]\ttrain's l2: 0.0644615\ttest's l2: 32.4831\n",
      "[11000]\ttrain's l2: 0.0644586\ttest's l2: 32.483\n",
      "[12000]\ttrain's l2: 0.0644577\ttest's l2: 32.483\n",
      "[13000]\ttrain's l2: 0.0644575\ttest's l2: 32.483\n",
      "[14000]\ttrain's l2: 0.0644574\ttest's l2: 32.4829\n",
      "[15000]\ttrain's l2: 0.0644574\ttest's l2: 32.483\n",
      "Early stopping, best iteration is:\n",
      "[14039]\ttrain's l2: 0.0644574\ttest's l2: 32.4829\n",
      "RandomForestRegressor_fitting...\n",
      "Ridge_fitting...\n",
      "insample_mse_of_LightGBM:0.06445740652825348\n",
      "insample_mse_of_RandomForestRegressor:8155.268699828663\n",
      "insample_mse_of_Ridge:146728042.8817883\n",
      "oof_mse_of_LightGBM:32.48294358993165\n",
      "oof_mse_of_RandomForestRegressor:18071.724679638228\n",
      "oof_mse_of_Ridge:192072092.93669188\n",
      "CV_3\n",
      "LightGBM_fitting...\n",
      "[LightGBM] [Warning] Auto-choosing row-wise multi-threading, the overhead of testing was 0.000204 seconds.\n",
      "You can set `force_row_wise=true` to remove the overhead.\n",
      "And if memory is not enough, you can set `force_col_wise=true`.\n",
      "[LightGBM] [Info] Total Bins 338\n",
      "[LightGBM] [Info] Number of data points in the train set: 3315, number of used features: 32\n",
      "[LightGBM] [Info] Start training from score 2417.817496\n",
      "[LightGBM] [Warning] No further splits with positive gain, best gain: -inf\n",
      "Training until validation scores don't improve for 1000 rounds\n",
      "[LightGBM] [Warning] No further splits with positive gain, best gain: -inf\n",
      "[LightGBM] [Warning] No further splits with positive gain, best gain: -inf\n",
      "[LightGBM] [Warning] No further splits with positive gain, best gain: -inf\n",
      "[LightGBM] [Warning] No further splits with positive gain, best gain: -inf\n",
      "[LightGBM] [Warning] No further splits with positive gain, best gain: -inf\n",
      "[LightGBM] [Warning] No further splits with positive gain, best gain: -inf\n",
      "[LightGBM] [Warning] No further splits with positive gain, best gain: -inf\n",
      "[LightGBM] [Warning] No further splits with positive gain, best gain: -inf\n",
      "[LightGBM] [Warning] No further splits with positive gain, best gain: -inf\n",
      "[LightGBM] [Warning] No further splits with positive gain, best gain: -inf\n",
      "[LightGBM] [Warning] No further splits with positive gain, best gain: -inf\n",
      "[LightGBM] [Warning] No further splits with positive gain, best gain: -inf\n",
      "[LightGBM] [Warning] No further splits with positive gain, best gain: -inf\n",
      "[LightGBM] [Warning] No further splits with positive gain, best gain: -inf\n",
      "[LightGBM] [Warning] No further splits with positive gain, best gain: -inf\n",
      "[LightGBM] [Warning] No further splits with positive gain, best gain: -inf\n",
      "[LightGBM] [Warning] No further splits with positive gain, best gain: -inf\n",
      "[LightGBM] [Warning] No further splits with positive gain, best gain: -inf\n",
      "[LightGBM] [Warning] No further splits with positive gain, best gain: -inf\n",
      "[LightGBM] [Warning] No further splits with positive gain, best gain: -inf\n",
      "[LightGBM] [Warning] No further splits with positive gain, best gain: -inf\n",
      "[LightGBM] [Warning] No further splits with positive gain, best gain: -inf\n",
      "[LightGBM] [Warning] No further splits with positive gain, best gain: -inf\n",
      "[LightGBM] [Warning] No further splits with positive gain, best gain: -inf\n",
      "[LightGBM] [Warning] No further splits with positive gain, best gain: -inf\n",
      "[LightGBM] [Warning] No further splits with positive gain, best gain: -inf\n",
      "[LightGBM] [Warning] No further splits with positive gain, best gain: -inf\n",
      "[LightGBM] [Warning] No further splits with positive gain, best gain: -inf\n",
      "[LightGBM] [Warning] No further splits with positive gain, best gain: -inf\n",
      "[1000]\ttrain's l2: 266.243\ttest's l2: 438.065\n",
      "[2000]\ttrain's l2: 12.6776\ttest's l2: 18.9387\n",
      "[3000]\ttrain's l2: 1.27354\ttest's l2: 4.09586\n",
      "[4000]\ttrain's l2: 0.230091\ttest's l2: 3.0345\n",
      "[5000]\ttrain's l2: 0.092603\ttest's l2: 2.8975\n",
      "[6000]\ttrain's l2: 0.0647967\ttest's l2: 2.8641\n",
      "[7000]\ttrain's l2: 0.0586163\ttest's l2: 2.85562\n",
      "[8000]\ttrain's l2: 0.0570132\ttest's l2: 2.8524\n",
      "[9000]\ttrain's l2: 0.0565457\ttest's l2: 2.85157\n",
      "[10000]\ttrain's l2: 0.0563999\ttest's l2: 2.85124\n",
      "[11000]\ttrain's l2: 0.0563566\ttest's l2: 2.85115\n",
      "[12000]\ttrain's l2: 0.0563424\ttest's l2: 2.85105\n",
      "[13000]\ttrain's l2: 0.0563379\ttest's l2: 2.85104\n",
      "[14000]\ttrain's l2: 0.0563363\ttest's l2: 2.85102\n",
      "[15000]\ttrain's l2: 0.0563358\ttest's l2: 2.851\n",
      "[16000]\ttrain's l2: 0.0563357\ttest's l2: 2.851\n",
      "[17000]\ttrain's l2: 0.0563356\ttest's l2: 2.85099\n",
      "[18000]\ttrain's l2: 0.0563356\ttest's l2: 2.85099\n",
      "Early stopping, best iteration is:\n",
      "[17886]\ttrain's l2: 0.0563356\ttest's l2: 2.85099\n",
      "RandomForestRegressor_fitting...\n",
      "Ridge_fitting...\n",
      "insample_mse_of_LightGBM:0.05633557282339777\n",
      "insample_mse_of_RandomForestRegressor:5571.9120866015055\n",
      "insample_mse_of_Ridge:148706000.9140446\n",
      "oof_mse_of_LightGBM:2.850988817860862\n",
      "oof_mse_of_RandomForestRegressor:11230.195996993974\n",
      "oof_mse_of_Ridge:184275267.30422565\n",
      "CV_4\n",
      "LightGBM_fitting...\n",
      "[LightGBM] [Warning] Auto-choosing row-wise multi-threading, the overhead of testing was 0.000165 seconds.\n",
      "You can set `force_row_wise=true` to remove the overhead.\n",
      "And if memory is not enough, you can set `force_col_wise=true`.\n",
      "[LightGBM] [Info] Total Bins 338\n",
      "[LightGBM] [Info] Number of data points in the train set: 3316, number of used features: 32\n",
      "[LightGBM] [Info] Start training from score 2627.435464\n",
      "[LightGBM] [Warning] No further splits with positive gain, best gain: -inf\n",
      "Training until validation scores don't improve for 1000 rounds\n",
      "[LightGBM] [Warning] No further splits with positive gain, best gain: -inf\n",
      "[LightGBM] [Warning] No further splits with positive gain, best gain: -inf\n",
      "[LightGBM] [Warning] No further splits with positive gain, best gain: -inf\n",
      "[LightGBM] [Warning] No further splits with positive gain, best gain: -inf\n",
      "[LightGBM] [Warning] No further splits with positive gain, best gain: -inf\n",
      "[LightGBM] [Warning] No further splits with positive gain, best gain: -inf\n",
      "[LightGBM] [Warning] No further splits with positive gain, best gain: -inf\n",
      "[LightGBM] [Warning] No further splits with positive gain, best gain: -inf\n",
      "[LightGBM] [Warning] No further splits with positive gain, best gain: -inf\n",
      "[LightGBM] [Warning] No further splits with positive gain, best gain: -inf\n",
      "[LightGBM] [Warning] No further splits with positive gain, best gain: -inf\n",
      "[LightGBM] [Warning] No further splits with positive gain, best gain: -inf\n",
      "[LightGBM] [Warning] No further splits with positive gain, best gain: -inf\n",
      "[LightGBM] [Warning] No further splits with positive gain, best gain: -inf\n",
      "[LightGBM] [Warning] No further splits with positive gain, best gain: -inf\n",
      "[LightGBM] [Warning] No further splits with positive gain, best gain: -inf\n",
      "[LightGBM] [Warning] No further splits with positive gain, best gain: -inf\n",
      "[LightGBM] [Warning] No further splits with positive gain, best gain: -inf\n",
      "[LightGBM] [Warning] No further splits with positive gain, best gain: -inf\n",
      "[LightGBM] [Warning] No further splits with positive gain, best gain: -inf\n",
      "[LightGBM] [Warning] No further splits with positive gain, best gain: -inf\n",
      "[LightGBM] [Warning] No further splits with positive gain, best gain: -inf\n",
      "[LightGBM] [Warning] No further splits with positive gain, best gain: -inf\n",
      "[LightGBM] [Warning] No further splits with positive gain, best gain: -inf\n",
      "[LightGBM] [Warning] No further splits with positive gain, best gain: -inf\n",
      "[LightGBM] [Warning] No further splits with positive gain, best gain: -inf\n",
      "[LightGBM] [Warning] No further splits with positive gain, best gain: -inf\n",
      "[LightGBM] [Warning] No further splits with positive gain, best gain: -inf\n",
      "[LightGBM] [Warning] No further splits with positive gain, best gain: -inf\n",
      "[LightGBM] [Warning] No further splits with positive gain, best gain: -inf\n",
      "[LightGBM] [Warning] No further splits with positive gain, best gain: -inf\n",
      "[LightGBM] [Warning] No further splits with positive gain, best gain: -inf\n",
      "[LightGBM] [Warning] No further splits with positive gain, best gain: -inf\n",
      "[LightGBM] [Warning] No further splits with positive gain, best gain: -inf\n",
      "[LightGBM] [Warning] No further splits with positive gain, best gain: -inf\n",
      "[LightGBM] [Warning] No further splits with positive gain, best gain: -inf\n",
      "[1000]\ttrain's l2: 352.173\ttest's l2: 222.342\n",
      "[2000]\ttrain's l2: 13.4137\ttest's l2: 14.959\n",
      "[3000]\ttrain's l2: 1.56177\ttest's l2: 3.41809\n",
      "[4000]\ttrain's l2: 0.309564\ttest's l2: 1.89876\n",
      "[5000]\ttrain's l2: 0.114491\ttest's l2: 1.65408\n",
      "[6000]\ttrain's l2: 0.0761007\ttest's l2: 1.6024\n",
      "[7000]\ttrain's l2: 0.0667184\ttest's l2: 1.58802\n",
      "[8000]\ttrain's l2: 0.0644128\ttest's l2: 1.58261\n",
      "[9000]\ttrain's l2: 0.0637795\ttest's l2: 1.58099\n",
      "[10000]\ttrain's l2: 0.0636047\ttest's l2: 1.58053\n",
      "Early stopping, best iteration is:\n",
      "[9996]\ttrain's l2: 0.063605\ttest's l2: 1.5805\n",
      "RandomForestRegressor_fitting...\n",
      "Ridge_fitting...\n",
      "insample_mse_of_LightGBM:0.0636050028434476\n",
      "insample_mse_of_RandomForestRegressor:6786.871764778024\n",
      "insample_mse_of_Ridge:158628535.3309109\n",
      "oof_mse_of_LightGBM:1.5804988362700219\n",
      "oof_mse_of_RandomForestRegressor:10702.826246792216\n",
      "oof_mse_of_Ridge:143355921.2885101\n",
      "z=1_all_CV_done\n",
      "CV_insample_mse_of_LightGBM:0.062463117413221844\n",
      "CV_insample_mse_of_RandomForestRegressor:19318.894763497505\n",
      "CV_insample_mse_of_Ridge:155036441.1117213\n",
      "CV_oof_mse_of_LightGBM:8.268542445503055\n",
      "CV_oof_mse_of_RandomForestRegressor:93139.42516159364\n",
      "CV_oof_mse_of_Ridge:159449882.49560055\n"
     ]
    }
   ],
   "metadata": {
    "ExecuteTime": {
     "end_time": "2019-07-17T11:21:21.583378Z",
     "start_time": "2019-07-17T11:17:56.240556Z"
    },
    "scrolled": true
   }
  },
  {
   "cell_type": "code",
   "execution_count": 29,
   "source": [
    "display_importances(feature_importance_df)"
   ],
   "outputs": [
    {
     "output_type": "display_data",
     "data": {
      "text/plain": [
       "<Figure size 864x1080 with 1 Axes>"
      ],
      "image/png": "[encoded data removed]"
     },
     "metadata": {}
    }
   ],
   "metadata": {
    "ExecuteTime": {
     "end_time": "2019-07-17T11:45:28.177867Z",
     "start_time": "2019-07-17T11:45:27.088255Z"
    },
    "scrolled": true
   }
  },
  {
   "cell_type": "markdown",
   "source": [
    "# ダブルロバスト"
   ],
   "metadata": {}
  },
  {
   "cell_type": "code",
   "execution_count": 30,
   "source": [
    "Y = df['gamesecond']\r\n",
    "Z = df['cm_dummy']\r\n",
    "PS = df['pred_lr']\r\n",
    "reg_0 = df['z0_reg_pred_rg']\r\n",
    "reg_1 = df['z1_reg_pred_rg']\r\n",
    "\r\n",
    "# E(y_1)\r\n",
    "dr_1 = np.mean(Z * Y / PS + (1 - Z / PS) * reg_1)\r\n",
    "\r\n",
    "# E(y_0)\r\n",
    "dr_0 = np.mean((1 - Z) * Y / (1 - PS) + (1 - (1 - Z) / (1 - PS)) * reg_0)\r\n",
    "\r\n",
    "print('E(y_1):{}_E(y_0):{}_effect:{}'.format(dr_1, dr_0, dr_1 - dr_0))"
   ],
   "outputs": [
    {
     "output_type": "stream",
     "name": "stdout",
     "text": [
      "E(y_1):2282.187295094559_E(y_0):3090.862416956937_effect:-808.6751218623781\n"
     ]
    }
   ],
   "metadata": {
    "ExecuteTime": {
     "end_time": "2019-07-20T07:19:38.368108Z",
     "start_time": "2019-07-20T07:19:38.351324Z"
    }
   }
  },
  {
   "cell_type": "markdown",
   "source": [
    "# Priximityマッチング"
   ],
   "metadata": {}
  },
  {
   "cell_type": "code",
   "execution_count": 727,
   "source": [
    "y_col = 'gamesecond'\r\n",
    "z_col = 'cm_dummy'\r\n",
    "x_cols = [\r\n",
    "    col for col in df.columns if col not in [\r\n",
    "        'gamecount', 'gamedummy', 'gamesecond', 'cm_dummy',\r\n",
    "        'pred_lgb', 'pred_lr', 'pred_rf',\r\n",
    "        'z0_reg_pred_lgb', 'z1_reg_pred_lgb',\r\n",
    "        'z0_reg_pred_rf', 'z1_reg_pred_rf',\r\n",
    "        'z0_reg_pred_rg', 'z1_reg_pred_rg'\r\n",
    "    ]\r\n",
    "]\r\n",
    "df_x = df[x_cols]\r\n",
    "df_z = df[z_col]\r\n",
    "df_x.shape, df_z.shape"
   ],
   "outputs": [
    {
     "output_type": "execute_result",
     "data": {
      "text/plain": [
       "((10000, 31), (10000,))"
      ]
     },
     "metadata": {},
     "execution_count": 727
    }
   ],
   "metadata": {
    "ExecuteTime": {
     "end_time": "2019-07-20T07:41:26.230602Z",
     "start_time": "2019-07-20T07:41:26.215197Z"
    }
   }
  },
  {
   "cell_type": "code",
   "execution_count": 728,
   "source": [
    "model_rf = RandomForestClassifier(n_estimators=500)\r\n",
    "model_rf.fit(df_x.values, df_z.values)"
   ],
   "outputs": [
    {
     "output_type": "execute_result",
     "data": {
      "text/plain": [
       "RandomForestClassifier(bootstrap=True, class_weight=None, criterion='gini',\n",
       "            max_depth=None, max_features='auto', max_leaf_nodes=None,\n",
       "            min_impurity_decrease=0.0, min_impurity_split=None,\n",
       "            min_samples_leaf=1, min_samples_split=2,\n",
       "            min_weight_fraction_leaf=0.0, n_estimators=500, n_jobs=None,\n",
       "            oob_score=False, random_state=None, verbose=0,\n",
       "            warm_start=False)"
      ]
     },
     "metadata": {},
     "execution_count": 728
    }
   ],
   "metadata": {
    "ExecuteTime": {
     "end_time": "2019-07-20T07:41:47.042301Z",
     "start_time": "2019-07-20T07:41:44.899179Z"
    }
   }
  },
  {
   "cell_type": "code",
   "execution_count": 736,
   "source": [
    "def proximity(data):\r\n",
    "    prox_matrix = np.zeros((len(data), len(data)))\r\n",
    "    n_estimators = len(data[0])\r\n",
    "\r\n",
    "    for e, est in enumerate(np.transpose(np.array(data))):\r\n",
    "        print(e)\r\n",
    "        for n, n_node in enumerate(est):\r\n",
    "            for k, k_node in enumerate(est):\r\n",
    "                if n_node == k_node:\r\n",
    "                    prox_matrix[n][k] += 1\r\n",
    "\r\n",
    "    prox_matrix = 1.0 * np.array(prox_matrix) / n_estimators\r\n",
    "\r\n",
    "    return prox_matrix"
   ],
   "outputs": [],
   "metadata": {
    "ExecuteTime": {
     "end_time": "2019-07-20T08:11:40.208536Z",
     "start_time": "2019-07-20T08:11:40.195244Z"
    }
   }
  },
  {
   "cell_type": "code",
   "execution_count": 732,
   "source": [
    "app = model_rf.apply(df_x.values)\n",
    "app"
   ],
   "outputs": [
    {
     "output_type": "execute_result",
     "data": {
      "text/plain": [
       "array([[ 696,  367,   93, ...,  465,  861, 1152],\n",
       "       [ 908,  576,  111, ..., 1120,  317,  565],\n",
       "       [1305,   12,   24, ...,  158, 1150,  965],\n",
       "       ...,\n",
       "       [ 488,   33,  117, ...,   65, 1290, 1021],\n",
       "       [ 488,   33,  117, ...,   65, 1290, 1021],\n",
       "       [ 488,   33,  117, ...,   65, 1290, 1021]])"
      ]
     },
     "metadata": {},
     "execution_count": 732
    }
   ],
   "metadata": {
    "ExecuteTime": {
     "end_time": "2019-07-20T07:44:09.746272Z",
     "start_time": "2019-07-20T07:44:09.350154Z"
    }
   }
  },
  {
   "cell_type": "code",
   "execution_count": 737,
   "source": [
    "prox_matrix = proximity(app)"
   ],
   "outputs": [
    {
     "output_type": "stream",
     "name": "stdout",
     "text": [
      "0\n",
      "1\n",
      "2\n",
      "3\n",
      "4\n",
      "5\n",
      "6\n",
      "7\n",
      "8\n",
      "9\n",
      "10\n",
      "11\n",
      "12\n",
      "13\n",
      "14\n",
      "15\n",
      "16\n",
      "17\n",
      "18\n",
      "19\n",
      "20\n",
      "21\n",
      "22\n",
      "23\n",
      "24\n",
      "25\n",
      "26\n",
      "27\n",
      "28\n",
      "29\n",
      "30\n",
      "31\n",
      "32\n",
      "33\n",
      "34\n",
      "35\n",
      "36\n",
      "37\n",
      "38\n",
      "39\n",
      "40\n",
      "41\n",
      "42\n",
      "43\n",
      "44\n",
      "45\n",
      "46\n",
      "47\n",
      "48\n",
      "49\n",
      "50\n",
      "51\n",
      "52\n",
      "53\n",
      "54\n",
      "55\n",
      "56\n",
      "57\n",
      "58\n",
      "59\n",
      "60\n",
      "61\n",
      "62\n",
      "63\n",
      "64\n",
      "65\n",
      "66\n",
      "67\n",
      "68\n",
      "69\n",
      "70\n",
      "71\n",
      "72\n",
      "73\n",
      "74\n",
      "75\n",
      "76\n",
      "77\n",
      "78\n",
      "79\n",
      "80\n",
      "81\n",
      "82\n",
      "83\n",
      "84\n",
      "85\n",
      "86\n",
      "87\n",
      "88\n",
      "89\n",
      "90\n",
      "91\n",
      "92\n",
      "93\n",
      "94\n",
      "95\n",
      "96\n",
      "97\n",
      "98\n",
      "99\n",
      "100\n",
      "101\n",
      "102\n",
      "103\n",
      "104\n",
      "105\n",
      "106\n",
      "107\n",
      "108\n",
      "109\n",
      "110\n",
      "111\n",
      "112\n",
      "113\n",
      "114\n",
      "115\n",
      "116\n",
      "117\n",
      "118\n",
      "119\n",
      "120\n",
      "121\n",
      "122\n",
      "123\n",
      "124\n",
      "125\n",
      "126\n",
      "127\n",
      "128\n",
      "129\n",
      "130\n",
      "131\n",
      "132\n",
      "133\n",
      "134\n",
      "135\n",
      "136\n",
      "137\n",
      "138\n",
      "139\n",
      "140\n",
      "141\n",
      "142\n",
      "143\n",
      "144\n",
      "145\n",
      "146\n",
      "147\n",
      "148\n",
      "149\n",
      "150\n",
      "151\n",
      "152\n",
      "153\n",
      "154\n",
      "155\n",
      "156\n",
      "157\n",
      "158\n",
      "159\n",
      "160\n",
      "161\n",
      "162\n",
      "163\n",
      "164\n",
      "165\n",
      "166\n",
      "167\n",
      "168\n",
      "169\n",
      "170\n",
      "171\n",
      "172\n",
      "173\n",
      "174\n",
      "175\n",
      "176\n",
      "177\n",
      "178\n",
      "179\n",
      "180\n",
      "181\n",
      "182\n",
      "183\n",
      "184\n",
      "185\n",
      "186\n",
      "187\n",
      "188\n",
      "189\n",
      "190\n",
      "191\n",
      "192\n",
      "193\n",
      "194\n",
      "195\n",
      "196\n",
      "197\n",
      "198\n",
      "199\n",
      "200\n",
      "201\n",
      "202\n",
      "203\n",
      "204\n",
      "205\n",
      "206\n",
      "207\n",
      "208\n",
      "209\n",
      "210\n",
      "211\n",
      "212\n",
      "213\n",
      "214\n",
      "215\n",
      "216\n",
      "217\n",
      "218\n",
      "219\n",
      "220\n",
      "221\n",
      "222\n",
      "223\n",
      "224\n",
      "225\n",
      "226\n",
      "227\n",
      "228\n",
      "229\n",
      "230\n",
      "231\n",
      "232\n",
      "233\n",
      "234\n",
      "235\n",
      "236\n",
      "237\n",
      "238\n",
      "239\n",
      "240\n",
      "241\n",
      "242\n",
      "243\n",
      "244\n",
      "245\n",
      "246\n",
      "247\n",
      "248\n",
      "249\n",
      "250\n",
      "251\n",
      "252\n",
      "253\n",
      "254\n",
      "255\n",
      "256\n",
      "257\n",
      "258\n",
      "259\n",
      "260\n",
      "261\n",
      "262\n",
      "263\n",
      "264\n",
      "265\n",
      "266\n",
      "267\n",
      "268\n",
      "269\n",
      "270\n",
      "271\n",
      "272\n",
      "273\n",
      "274\n",
      "275\n",
      "276\n",
      "277\n",
      "278\n",
      "279\n",
      "280\n",
      "281\n",
      "282\n",
      "283\n",
      "284\n",
      "285\n",
      "286\n",
      "287\n",
      "288\n",
      "289\n",
      "290\n",
      "291\n",
      "292\n",
      "293\n",
      "294\n",
      "295\n",
      "296\n",
      "297\n",
      "298\n",
      "299\n",
      "300\n",
      "301\n",
      "302\n",
      "303\n",
      "304\n",
      "305\n",
      "306\n",
      "307\n",
      "308\n",
      "309\n",
      "310\n",
      "311\n",
      "312\n",
      "313\n",
      "314\n",
      "315\n",
      "316\n",
      "317\n",
      "318\n",
      "319\n",
      "320\n",
      "321\n",
      "322\n",
      "323\n",
      "324\n",
      "325\n",
      "326\n",
      "327\n",
      "328\n",
      "329\n",
      "330\n",
      "331\n",
      "332\n",
      "333\n",
      "334\n",
      "335\n",
      "336\n",
      "337\n",
      "338\n",
      "339\n",
      "340\n",
      "341\n",
      "342\n",
      "343\n",
      "344\n",
      "345\n",
      "346\n",
      "347\n",
      "348\n",
      "349\n",
      "350\n",
      "351\n",
      "352\n",
      "353\n",
      "354\n",
      "355\n",
      "356\n",
      "357\n",
      "358\n",
      "359\n",
      "360\n",
      "361\n",
      "362\n",
      "363\n",
      "364\n",
      "365\n",
      "366\n",
      "367\n",
      "368\n",
      "369\n",
      "370\n",
      "371\n",
      "372\n",
      "373\n",
      "374\n",
      "375\n",
      "376\n",
      "377\n",
      "378\n",
      "379\n",
      "380\n",
      "381\n",
      "382\n",
      "383\n",
      "384\n",
      "385\n",
      "386\n",
      "387\n",
      "388\n",
      "389\n",
      "390\n",
      "391\n",
      "392\n",
      "393\n",
      "394\n",
      "395\n",
      "396\n",
      "397\n",
      "398\n",
      "399\n",
      "400\n",
      "401\n",
      "402\n",
      "403\n",
      "404\n",
      "405\n",
      "406\n",
      "407\n",
      "408\n",
      "409\n",
      "410\n",
      "411\n",
      "412\n",
      "413\n",
      "414\n",
      "415\n",
      "416\n",
      "417\n",
      "418\n",
      "419\n",
      "420\n",
      "421\n",
      "422\n",
      "423\n",
      "424\n",
      "425\n",
      "426\n",
      "427\n",
      "428\n",
      "429\n",
      "430\n",
      "431\n",
      "432\n",
      "433\n",
      "434\n",
      "435\n",
      "436\n",
      "437\n",
      "438\n",
      "439\n",
      "440\n",
      "441\n",
      "442\n",
      "443\n",
      "444\n",
      "445\n",
      "446\n",
      "447\n",
      "448\n",
      "449\n",
      "450\n",
      "451\n",
      "452\n",
      "453\n",
      "454\n",
      "455\n",
      "456\n",
      "457\n",
      "458\n",
      "459\n",
      "460\n",
      "461\n",
      "462\n",
      "463\n",
      "464\n",
      "465\n",
      "466\n",
      "467\n",
      "468\n",
      "469\n",
      "470\n",
      "471\n",
      "472\n",
      "473\n",
      "474\n",
      "475\n",
      "476\n",
      "477\n",
      "478\n",
      "479\n",
      "480\n",
      "481\n",
      "482\n",
      "483\n",
      "484\n",
      "485\n",
      "486\n",
      "487\n",
      "488\n",
      "489\n",
      "490\n",
      "491\n",
      "492\n",
      "493\n",
      "494\n",
      "495\n",
      "496\n",
      "497\n",
      "498\n",
      "499\n"
     ]
    }
   ],
   "metadata": {
    "ExecuteTime": {
     "end_time": "2019-07-20T11:26:46.208654Z",
     "start_time": "2019-07-20T08:11:45.214967Z"
    }
   }
  },
  {
   "cell_type": "code",
   "execution_count": 738,
   "source": [
    "prox_matrix.shape"
   ],
   "outputs": [
    {
     "output_type": "execute_result",
     "data": {
      "text/plain": [
       "(10000, 10000)"
      ]
     },
     "metadata": {},
     "execution_count": 738
    }
   ],
   "metadata": {
    "ExecuteTime": {
     "end_time": "2019-07-20T15:36:06.228688Z",
     "start_time": "2019-07-20T15:36:06.221403Z"
    }
   }
  },
  {
   "cell_type": "code",
   "execution_count": 742,
   "source": [
    "df_prox = pd.DataFrame(prox_matrix)\n",
    "df_prox.to_pickle('proximity.pkl')"
   ],
   "outputs": [],
   "metadata": {
    "ExecuteTime": {
     "end_time": "2019-07-21T05:41:52.679671Z",
     "start_time": "2019-07-21T05:41:48.980499Z"
    }
   }
  },
  {
   "cell_type": "code",
   "execution_count": 819,
   "source": [
    "# 対角成分の削除\n",
    "prox_matrix_remove_diag = prox_matrix - np.diagflat(np.diag(prox_matrix))\n",
    "# テスト群の行のみ抽出\n",
    "prox_matrix_remove_diag_test = prox_matrix_remove_diag[df.loc[df[z_col] ==1].index, :]\n",
    "# コントロール群の列のみ抽出\n",
    "prox_matrix_remove_diag_test = prox_matrix_remove_diag_test[:, df.loc[df[z_col] == 0].index]\n",
    "prox_matrix_remove_diag_test.shape\n",
    "#  各テスト群のデータ(行)に対して最も類似度の高いコントロール群(列)の抽出\n",
    "max_index = np.argmax(prox_matrix_remove_diag_test, axis=1)\n",
    "\n",
    "# 　マッチング\n",
    "df_pair_test = df.loc[df[z_col] == 1]\n",
    "df_pair_ctr = df.iloc[max_index, :]\n",
    "df_pair_ctr.reset_index(inplace=True)\n",
    "df_pair_test.reset_index(inplace=True)\n",
    "df_pair_ctr.columns = [\"ctr_\" + colname for colname in df_pair_ctr.columns]\n",
    "df_pair_test.columns = [\"test_\" + colname for colname in df_pair_test.columns]\n",
    "df_pair = pd.concat([df_pair_test, df_pair_ctr], axis=1)\n",
    "# 因果効果の算出\n",
    "np.mean(df_pair['test_gamesecond'] - df_pair['ctr_gamesecond']) "
   ],
   "outputs": [
    {
     "output_type": "execute_result",
     "data": {
      "text/plain": [
       "2478.0658783783783"
      ]
     },
     "metadata": {},
     "execution_count": 819
    }
   ],
   "metadata": {
    "ExecuteTime": {
     "end_time": "2019-07-21T07:33:21.785030Z",
     "start_time": "2019-07-21T07:33:20.762554Z"
    }
   }
  },
  {
   "cell_type": "code",
   "execution_count": 820,
   "source": [
    "for colname in ['TVwatch_day', 'inc', 'pmoney']:\n",
    "    sd = cal_sd(df：」：＿＿：_pair, colname)\n",
    "    print('SD_of_{}_is:{}'.format(colname, sd))"
   ],
   "outputs": [
    {
     "output_type": "stream",
     "name": "stdout",
     "text": [
      "SD_of_TVwatch_day_is:0.7061676939448971\n",
      "SD_of_inc_is:0.12851003077841508\n",
      "SD_of_pmoney_is:0.5529597735167537\n"
     ]
    }
   ],
   "metadata": {
    "ExecuteTime": {
     "end_time": "2019-07-21T07:33:35.789025Z",
     "start_time": "2019-07-21T07:33:35.776172Z"
    }
   }
  },
  {
   "cell_type": "code",
   "execution_count": 823,
   "source": [
    "pred = model_rf.predict_proba(df[x_cols])[:, 1]\n",
    "log_loss(df[z_col], pred)"
   ],
   "outputs": [
    {
     "output_type": "execute_result",
     "data": {
      "text/plain": [
       "0.00038489766249785853"
      ]
     },
     "metadata": {},
     "execution_count": 823
    }
   ],
   "metadata": {
    "ExecuteTime": {
     "end_time": "2019-07-21T07:38:22.397864Z",
     "start_time": "2019-07-21T07:38:21.863259Z"
    }
   }
  },
  {
   "cell_type": "markdown",
   "source": [
    "# pdp"
   ],
   "metadata": {}
  },
  {
   "cell_type": "code",
   "execution_count": 841,
   "source": [
    "from pdpbox import pdp, info_plots"
   ],
   "outputs": [],
   "metadata": {
    "ExecuteTime": {
     "end_time": "2019-07-28T07:19:59.735470Z",
     "start_time": "2019-07-28T07:19:59.477996Z"
    }
   }
  },
  {
   "cell_type": "code",
   "execution_count": 873,
   "source": [
    "y_col = 'gamesecond'\n",
    "pdp_x_cols = [\n",
    "    col for col in df.columns if col not in [\n",
    "        'gamecount', 'gamesecond', 'pred_lgb',\n",
    "        'pred_lr', 'pred_rf', 'pred_lgb_calibrated', \n",
    "        'z0_reg_pred_lgb', 'z1_reg_pred_lgb',\n",
    "        'z0_reg_pred_rf', 'z1_reg_pred_rf',\n",
    "        'z0_reg_pred_rg', 'z1_reg_pred_rg'\n",
    "    ]\n",
    "]"
   ],
   "outputs": [],
   "metadata": {
    "ExecuteTime": {
     "end_time": "2019-07-28T07:55:32.218265Z",
     "start_time": "2019-07-28T07:55:32.209968Z"
    }
   }
  },
  {
   "cell_type": "code",
   "execution_count": 875,
   "source": [
    "# insampleで学習したモデルの作成\n",
    "lgb_train = lgb.Dataset(df[pdp_x_cols], label=df[y_col], free_raw_data=False)\n",
    "lgb_test = lgb.Dataset(df[pdp_x_cols], label=df[y_col], free_raw_data=False)\n",
    "\n",
    "params = {\n",
    "    'task': 'train',\n",
    "    'objective': 'regression',\n",
    "    'metric': 'mse',\n",
    "}\n",
    "model_lgb = lgb.train(\n",
    "    params,\n",
    "    lgb_train,\n",
    "    valid_sets=[lgb_train, lgb_test],\n",
    "    valid_names=['train', 'test'],\n",
    "    num_boost_round=100000,\n",
    "    early_stopping_rounds=1000,\n",
    "    verbose_eval=1000)"
   ],
   "outputs": [
    {
     "output_type": "stream",
     "name": "stdout",
     "text": [
      "Training until validation scores don't improve for 1000 rounds.\n",
      "[1000]\ttrain's l2: 161.4\ttest's l2: 161.4\n",
      "[2000]\ttrain's l2: 9.74845\ttest's l2: 9.74845\n",
      "[3000]\ttrain's l2: 1.61307\ttest's l2: 1.61307\n",
      "[4000]\ttrain's l2: 0.361541\ttest's l2: 0.361541\n",
      "[5000]\ttrain's l2: 0.143164\ttest's l2: 0.143164\n",
      "[6000]\ttrain's l2: 0.0887365\ttest's l2: 0.0887365\n",
      "[7000]\ttrain's l2: 0.0728365\ttest's l2: 0.0728365\n",
      "[8000]\ttrain's l2: 0.0676775\ttest's l2: 0.0676775\n",
      "[9000]\ttrain's l2: 0.0659213\ttest's l2: 0.0659213\n",
      "[10000]\ttrain's l2: 0.0651428\ttest's l2: 0.0651428\n",
      "[11000]\ttrain's l2: 0.0648192\ttest's l2: 0.0648192\n",
      "[12000]\ttrain's l2: 0.0646842\ttest's l2: 0.0646842\n",
      "[13000]\ttrain's l2: 0.064629\ttest's l2: 0.064629\n",
      "[14000]\ttrain's l2: 0.0646035\ttest's l2: 0.0646035\n",
      "[15000]\ttrain's l2: 0.0645913\ttest's l2: 0.0645913\n",
      "[16000]\ttrain's l2: 0.0645862\ttest's l2: 0.0645862\n",
      "[17000]\ttrain's l2: 0.0645837\ttest's l2: 0.0645837\n",
      "[18000]\ttrain's l2: 0.0645825\ttest's l2: 0.0645825\n",
      "[19000]\ttrain's l2: 0.064582\ttest's l2: 0.064582\n",
      "[20000]\ttrain's l2: 0.0645818\ttest's l2: 0.0645818\n",
      "[21000]\ttrain's l2: 0.0645816\ttest's l2: 0.0645816\n",
      "[22000]\ttrain's l2: 0.0645816\ttest's l2: 0.0645816\n",
      "[23000]\ttrain's l2: 0.0645816\ttest's l2: 0.0645816\n",
      "[24000]\ttrain's l2: 0.0645816\ttest's l2: 0.0645816\n",
      "[25000]\ttrain's l2: 0.0645816\ttest's l2: 0.0645816\n",
      "[26000]\ttrain's l2: 0.0645815\ttest's l2: 0.0645815\n",
      "[27000]\ttrain's l2: 0.0645815\ttest's l2: 0.0645815\n",
      "[28000]\ttrain's l2: 0.0645815\ttest's l2: 0.0645815\n",
      "[29000]\ttrain's l2: 0.0645815\ttest's l2: 0.0645815\n",
      "[30000]\ttrain's l2: 0.0645815\ttest's l2: 0.0645815\n",
      "[31000]\ttrain's l2: 0.0645815\ttest's l2: 0.0645815\n",
      "[32000]\ttrain's l2: 0.0645815\ttest's l2: 0.0645815\n",
      "[33000]\ttrain's l2: 0.0645815\ttest's l2: 0.0645815\n",
      "[34000]\ttrain's l2: 0.0645815\ttest's l2: 0.0645815\n",
      "[35000]\ttrain's l2: 0.0645815\ttest's l2: 0.0645815\n",
      "[36000]\ttrain's l2: 0.0645815\ttest's l2: 0.0645815\n",
      "[37000]\ttrain's l2: 0.0645815\ttest's l2: 0.0645815\n",
      "[38000]\ttrain's l2: 0.0645815\ttest's l2: 0.0645815\n",
      "[39000]\ttrain's l2: 0.0645815\ttest's l2: 0.0645815\n",
      "[40000]\ttrain's l2: 0.0645815\ttest's l2: 0.0645815\n",
      "[41000]\ttrain's l2: 0.0645815\ttest's l2: 0.0645815\n",
      "[42000]\ttrain's l2: 0.0645815\ttest's l2: 0.0645815\n",
      "[43000]\ttrain's l2: 0.0645815\ttest's l2: 0.0645815\n",
      "[44000]\ttrain's l2: 0.0645815\ttest's l2: 0.0645815\n",
      "[45000]\ttrain's l2: 0.0645815\ttest's l2: 0.0645815\n",
      "[46000]\ttrain's l2: 0.0645815\ttest's l2: 0.0645815\n",
      "[47000]\ttrain's l2: 0.0645815\ttest's l2: 0.0645815\n",
      "[48000]\ttrain's l2: 0.0645815\ttest's l2: 0.0645815\n",
      "[49000]\ttrain's l2: 0.0645815\ttest's l2: 0.0645815\n",
      "[50000]\ttrain's l2: 0.0645815\ttest's l2: 0.0645815\n",
      "Early stopping, best iteration is:\n",
      "[49871]\ttrain's l2: 0.0645815\ttest's l2: 0.0645815\n"
     ]
    }
   ],
   "metadata": {
    "ExecuteTime": {
     "end_time": "2019-07-28T07:56:45.771580Z",
     "start_time": "2019-07-28T07:55:51.188513Z"
    },
    "scrolled": true
   }
  },
  {
   "cell_type": "markdown",
   "source": [
    "https://pdpbox.readthedocs.io/en/latest/pdp_isolate.html"
   ],
   "metadata": {}
  },
  {
   "cell_type": "code",
   "execution_count": 876,
   "source": [
    "pdp_TV = pdp.pdp_isolate(\n",
    "    model=model_lgb, dataset=df, model_features=pdp_x_cols, feature='TVwatch_day'\n",
    ")\n",
    "fig, axes = pdp.pdp_plot(pdp_TV, 'TVwatch_day',  frac_to_plot=100)"
   ],
   "outputs": [
    {
     "output_type": "display_data",
     "data": {
      "text/plain": [
       "<Figure size 1080x684 with 2 Axes>"
      ],
      "image/png": "[encoded data removed]"
     },
     "metadata": {}
    }
   ],
   "metadata": {
    "ExecuteTime": {
     "end_time": "2019-07-28T07:58:38.380892Z",
     "start_time": "2019-07-28T07:57:17.895235Z"
    }
   }
  },
  {
   "cell_type": "code",
   "execution_count": 878,
   "source": [
    "pdp_cm = pdp.pdp_isolate(\n",
    "    model=model_lgb, dataset=df, model_features=pdp_x_cols, feature='cm_dummy'\n",
    ")\n",
    "fig, axes = pdp.pdp_plot(pdp_isolate_out=pdp_cm,\n",
    "                         feature_name='cm_dummy',\n",
    "                         ncols=2)"
   ],
   "outputs": [
    {
     "output_type": "display_data",
     "data": {
      "text/plain": [
       "<Figure size 1080x684 with 2 Axes>"
      ],
      "image/png": "[encoded data removed]"
     },
     "metadata": {}
    }
   ],
   "metadata": {
    "ExecuteTime": {
     "end_time": "2019-07-28T08:01:03.366592Z",
     "start_time": "2019-07-28T08:00:47.417042Z"
    }
   }
  }
 ],
 "metadata": {
  "kernelspec": {
   "display_name": "Python 3",
   "language": "python",
   "name": "python3"
  },
  "language_info": {
   "codemirror_mode": {
    "name": "ipython",
    "version": 3
   },
   "file_extension": ".py",
   "mimetype": "text/x-python",
   "name": "python",
   "nbconvert_exporter": "python",
   "pygments_lexer": "ipython3",
   "version": "3.5.2"
  },
  "toc": {
   "base_numbering": 1,
   "nav_menu": {},
   "number_sections": true,
   "sideBar": true,
   "skip_h1_title": false,
   "title_cell": "Table of Contents",
   "title_sidebar": "Contents",
   "toc_cell": false,
   "toc_position": {
    "height": "calc(100% - 180px)",
    "left": "10px",
    "top": "150px",
    "width": "384px"
   },
   "toc_section_display": true,
   "toc_window_display": false
  },
  "varInspector": {
   "cols": {
    "lenName": 16,
    "lenType": 16,
    "lenVar": 40
   },
   "kernels_config": {
    "python": {
     "delete_cmd_postfix": "",
     "delete_cmd_prefix": "del ",
     "library": "var_list.py",
     "varRefreshCmd": "print(var_dic_list())"
    },
    "r": {
     "delete_cmd_postfix": ") ",
     "delete_cmd_prefix": "rm(",
     "library": "var_list.r",
     "varRefreshCmd": "cat(var_dic_list()) "
    }
   },
   "types_to_exclude": [
    "module",
    "function",
    "builtin_function_or_method",
    "instance",
    "_Feature"
   ],
   "window_display": false
  }
 },
 "nbformat": 4,
 "nbformat_minor": 2
}